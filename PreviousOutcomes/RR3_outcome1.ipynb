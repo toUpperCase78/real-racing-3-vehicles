{
 "cells": [
  {
   "cell_type": "markdown",
   "metadata": {},
   "source": [
    "# REAL RACING 3 VEHICLES - OUTCOME 1"
   ]
  },
  {
   "cell_type": "markdown",
   "metadata": {},
   "source": [
    "### **Welcome to my 1st part of data science page for Real Racing 3 Vehicles!**\n",
    "\n",
    "As always, we must begin with importing the necessary modules first."
   ]
  },
  {
   "cell_type": "code",
   "execution_count": 2,
   "metadata": {},
   "outputs": [],
   "source": [
    "import pandas as pd\n",
    "import numpy as np\n",
    "import matplotlib.pyplot as plt\n",
    "import seaborn as sns"
   ]
  },
  {
   "cell_type": "markdown",
   "metadata": {},
   "source": [
    "And, of course, read the data frame that contains all vehicles...\n",
    "\n",
    "**Keep in mind that the dataset of vehicle roster was related to game version 8.0.**"
   ]
  },
  {
   "cell_type": "code",
   "execution_count": 47,
   "metadata": {},
   "outputs": [],
   "source": [
    "rr3_df = pd.read_csv('real_racing_3_vehicles.csv')"
   ]
  },
  {
   "cell_type": "markdown",
   "metadata": {},
   "source": [
    "Let's see what we have in the first 10 rows:"
   ]
  },
  {
   "cell_type": "code",
   "execution_count": 48,
   "metadata": {},
   "outputs": [
    {
     "data": {
      "text/html": [
       "<div>\n",
       "<style scoped>\n",
       "    .dataframe tbody tr th:only-of-type {\n",
       "        vertical-align: middle;\n",
       "    }\n",
       "\n",
       "    .dataframe tbody tr th {\n",
       "        vertical-align: top;\n",
       "    }\n",
       "\n",
       "    .dataframe thead th {\n",
       "        text-align: right;\n",
       "    }\n",
       "</style>\n",
       "<table border=\"1\" class=\"dataframe\">\n",
       "  <thead>\n",
       "    <tr style=\"text-align: right;\">\n",
       "      <th></th>\n",
       "      <th>Manufacturer</th>\n",
       "      <th>Model</th>\n",
       "      <th>PR</th>\n",
       "      <th>Top_Speed(kph)</th>\n",
       "      <th>Acceleration(s)</th>\n",
       "      <th>Braking(m)</th>\n",
       "      <th>Grip(g)</th>\n",
       "      <th>Class</th>\n",
       "      <th>Type</th>\n",
       "      <th>Series</th>\n",
       "      <th>Purchase_Cost</th>\n",
       "      <th>Service_Time(min)</th>\n",
       "      <th>Service_Cost(R$)</th>\n",
       "      <th>Availability</th>\n",
       "    </tr>\n",
       "  </thead>\n",
       "  <tbody>\n",
       "    <tr>\n",
       "      <th>0</th>\n",
       "      <td>Acura</td>\n",
       "      <td>NSX GT3</td>\n",
       "      <td>65.2</td>\n",
       "      <td>273.0</td>\n",
       "      <td>3.01</td>\n",
       "      <td>29.5</td>\n",
       "      <td>1.65</td>\n",
       "      <td>R</td>\n",
       "      <td>MR</td>\n",
       "      <td>2</td>\n",
       "      <td>750 Gold</td>\n",
       "      <td>180.0</td>\n",
       "      <td>1990.0</td>\n",
       "      <td>True</td>\n",
       "    </tr>\n",
       "    <tr>\n",
       "      <th>1</th>\n",
       "      <td>Acura</td>\n",
       "      <td>ARX-05</td>\n",
       "      <td>78.4</td>\n",
       "      <td>321.0</td>\n",
       "      <td>2.79</td>\n",
       "      <td>25.6</td>\n",
       "      <td>1.76</td>\n",
       "      <td>R</td>\n",
       "      <td>MR</td>\n",
       "      <td>1</td>\n",
       "      <td>850 Gold</td>\n",
       "      <td>180.0</td>\n",
       "      <td>1997.0</td>\n",
       "      <td>True</td>\n",
       "    </tr>\n",
       "    <tr>\n",
       "      <th>2</th>\n",
       "      <td>Ariel</td>\n",
       "      <td>Atom 3.5</td>\n",
       "      <td>44.4</td>\n",
       "      <td>249.0</td>\n",
       "      <td>2.70</td>\n",
       "      <td>30.4</td>\n",
       "      <td>1.00</td>\n",
       "      <td>S</td>\n",
       "      <td>RR</td>\n",
       "      <td>2</td>\n",
       "      <td>255000 R$</td>\n",
       "      <td>140.0</td>\n",
       "      <td>1170.0</td>\n",
       "      <td>True</td>\n",
       "    </tr>\n",
       "    <tr>\n",
       "      <th>3</th>\n",
       "      <td>Ariel</td>\n",
       "      <td>Atom V8</td>\n",
       "      <td>61.1</td>\n",
       "      <td>321.0</td>\n",
       "      <td>2.29</td>\n",
       "      <td>30.4</td>\n",
       "      <td>1.20</td>\n",
       "      <td>S</td>\n",
       "      <td>RR</td>\n",
       "      <td>2</td>\n",
       "      <td>150 Gold</td>\n",
       "      <td>180.0</td>\n",
       "      <td>1402.0</td>\n",
       "      <td>True</td>\n",
       "    </tr>\n",
       "    <tr>\n",
       "      <th>4</th>\n",
       "      <td>Aston Martin</td>\n",
       "      <td>DB9</td>\n",
       "      <td>28.2</td>\n",
       "      <td>294.0</td>\n",
       "      <td>4.50</td>\n",
       "      <td>32.0</td>\n",
       "      <td>1.00</td>\n",
       "      <td>P</td>\n",
       "      <td>FR</td>\n",
       "      <td>4</td>\n",
       "      <td>230000 R$</td>\n",
       "      <td>130.0</td>\n",
       "      <td>1132.0</td>\n",
       "      <td>True</td>\n",
       "    </tr>\n",
       "    <tr>\n",
       "      <th>5</th>\n",
       "      <td>Aston Martin</td>\n",
       "      <td>Vanquish</td>\n",
       "      <td>33.6</td>\n",
       "      <td>294.0</td>\n",
       "      <td>4.09</td>\n",
       "      <td>31.3</td>\n",
       "      <td>1.01</td>\n",
       "      <td>P</td>\n",
       "      <td>FR</td>\n",
       "      <td>3</td>\n",
       "      <td>110 Gold</td>\n",
       "      <td>150.0</td>\n",
       "      <td>1230.0</td>\n",
       "      <td>True</td>\n",
       "    </tr>\n",
       "    <tr>\n",
       "      <th>6</th>\n",
       "      <td>Aston Martin</td>\n",
       "      <td>V12 Vantage S</td>\n",
       "      <td>43.8</td>\n",
       "      <td>329.0</td>\n",
       "      <td>3.70</td>\n",
       "      <td>30.4</td>\n",
       "      <td>1.10</td>\n",
       "      <td>P</td>\n",
       "      <td>FR</td>\n",
       "      <td>3</td>\n",
       "      <td>425000 R$</td>\n",
       "      <td>170.0</td>\n",
       "      <td>1355.0</td>\n",
       "      <td>True</td>\n",
       "    </tr>\n",
       "    <tr>\n",
       "      <th>7</th>\n",
       "      <td>Aston Martin</td>\n",
       "      <td>Vantage AMR Pro</td>\n",
       "      <td>51.3</td>\n",
       "      <td>302.0</td>\n",
       "      <td>3.59</td>\n",
       "      <td>28.0</td>\n",
       "      <td>1.29</td>\n",
       "      <td>R</td>\n",
       "      <td>FR</td>\n",
       "      <td>2</td>\n",
       "      <td>500 Gold</td>\n",
       "      <td>180.0</td>\n",
       "      <td>1415.0</td>\n",
       "      <td>True</td>\n",
       "    </tr>\n",
       "    <tr>\n",
       "      <th>8</th>\n",
       "      <td>Aston Martin</td>\n",
       "      <td>Vantage 59</td>\n",
       "      <td>40.4</td>\n",
       "      <td>313.0</td>\n",
       "      <td>4.00</td>\n",
       "      <td>30.4</td>\n",
       "      <td>1.07</td>\n",
       "      <td>P</td>\n",
       "      <td>FR</td>\n",
       "      <td>2</td>\n",
       "      <td>400 Gold</td>\n",
       "      <td>180.0</td>\n",
       "      <td>1415.0</td>\n",
       "      <td>True</td>\n",
       "    </tr>\n",
       "    <tr>\n",
       "      <th>9</th>\n",
       "      <td>Aston Martin</td>\n",
       "      <td>Vantage N430</td>\n",
       "      <td>40.2</td>\n",
       "      <td>313.0</td>\n",
       "      <td>4.09</td>\n",
       "      <td>30.1</td>\n",
       "      <td>1.14</td>\n",
       "      <td>P</td>\n",
       "      <td>FR</td>\n",
       "      <td>2</td>\n",
       "      <td>240 Gold</td>\n",
       "      <td>180.0</td>\n",
       "      <td>1415.0</td>\n",
       "      <td>True</td>\n",
       "    </tr>\n",
       "  </tbody>\n",
       "</table>\n",
       "</div>"
      ],
      "text/plain": [
       "   Manufacturer            Model    PR  Top_Speed(kph)  Acceleration(s)  \\\n",
       "0         Acura          NSX GT3  65.2           273.0             3.01   \n",
       "1         Acura           ARX-05  78.4           321.0             2.79   \n",
       "2         Ariel         Atom 3.5  44.4           249.0             2.70   \n",
       "3         Ariel          Atom V8  61.1           321.0             2.29   \n",
       "4  Aston Martin              DB9  28.2           294.0             4.50   \n",
       "5  Aston Martin         Vanquish  33.6           294.0             4.09   \n",
       "6  Aston Martin    V12 Vantage S  43.8           329.0             3.70   \n",
       "7  Aston Martin  Vantage AMR Pro  51.3           302.0             3.59   \n",
       "8  Aston Martin       Vantage 59  40.4           313.0             4.00   \n",
       "9  Aston Martin     Vantage N430  40.2           313.0             4.09   \n",
       "\n",
       "   Braking(m)  Grip(g) Class Type  Series Purchase_Cost  Service_Time(min)  \\\n",
       "0        29.5     1.65     R   MR       2      750 Gold              180.0   \n",
       "1        25.6     1.76     R   MR       1      850 Gold              180.0   \n",
       "2        30.4     1.00     S   RR       2     255000 R$              140.0   \n",
       "3        30.4     1.20     S   RR       2      150 Gold              180.0   \n",
       "4        32.0     1.00     P   FR       4     230000 R$              130.0   \n",
       "5        31.3     1.01     P   FR       3      110 Gold              150.0   \n",
       "6        30.4     1.10     P   FR       3     425000 R$              170.0   \n",
       "7        28.0     1.29     R   FR       2      500 Gold              180.0   \n",
       "8        30.4     1.07     P   FR       2      400 Gold              180.0   \n",
       "9        30.1     1.14     P   FR       2      240 Gold              180.0   \n",
       "\n",
       "   Service_Cost(R$)  Availability  \n",
       "0            1990.0          True  \n",
       "1            1997.0          True  \n",
       "2            1170.0          True  \n",
       "3            1402.0          True  \n",
       "4            1132.0          True  \n",
       "5            1230.0          True  \n",
       "6            1355.0          True  \n",
       "7            1415.0          True  \n",
       "8            1415.0          True  \n",
       "9            1415.0          True  "
      ]
     },
     "execution_count": 48,
     "metadata": {},
     "output_type": "execute_result"
    }
   ],
   "source": [
    "rr3_df.head(10)"
   ]
  },
  {
   "cell_type": "markdown",
   "metadata": {},
   "source": [
    "Let's get the manufacturer and the model name of the 45th vehicle in the data frame:"
   ]
  },
  {
   "cell_type": "code",
   "execution_count": 49,
   "metadata": {},
   "outputs": [
    {
     "data": {
      "text/plain": [
       "Manufacturer    Bugatti\n",
       "Model            Chiron\n",
       "Name: 44, dtype: object"
      ]
     },
     "execution_count": 49,
     "metadata": {},
     "output_type": "execute_result"
    }
   ],
   "source": [
    "rr3_df.loc[44, ['Manufacturer', 'Model']]"
   ]
  },
  {
   "cell_type": "markdown",
   "metadata": {},
   "source": [
    "Well, this returned a Series. But, I want it to be appeared as a plain text:"
   ]
  },
  {
   "cell_type": "code",
   "execution_count": 50,
   "metadata": {},
   "outputs": [
    {
     "name": "stdout",
     "output_type": "stream",
     "text": [
      "Bugatti Chiron\n"
     ]
    }
   ],
   "source": [
    "print(rr3_df.loc[44, 'Manufacturer'] + ' ' + rr3_df.loc[44, 'Model'])"
   ]
  },
  {
   "cell_type": "markdown",
   "metadata": {},
   "source": [
    "OK, what are the specs of the vehicle at 125th index?"
   ]
  },
  {
   "cell_type": "code",
   "execution_count": 51,
   "metadata": {},
   "outputs": [
    {
     "data": {
      "text/plain": [
       "PR                 115.8\n",
       "Top_Speed(kph)       313\n",
       "Acceleration(s)        2\n",
       "Braking(m)            17\n",
       "Grip(g)             3.03\n",
       "Name: 125, dtype: object"
      ]
     },
     "execution_count": 51,
     "metadata": {},
     "output_type": "execute_result"
    }
   ],
   "source": [
    "rr3_df.loc[125, 'PR':'Grip(g)']"
   ]
  },
  {
   "cell_type": "markdown",
   "metadata": {},
   "source": [
    "Hmmm, this probably looks like a race car. Could it be from Formula 1?\n",
    "\n",
    "Anyway, this time, I'd like to see the cost to buy, total service time and cost for the 200th vehicle:"
   ]
  },
  {
   "cell_type": "code",
   "execution_count": 52,
   "metadata": {},
   "outputs": [
    {
     "data": {
      "text/plain": [
       "Purchase_Cost        600 Gold\n",
       "Service_Time(min)         180\n",
       "Service_Cost(R$)         1870\n",
       "Name: 199, dtype: object"
      ]
     },
     "execution_count": 52,
     "metadata": {},
     "output_type": "execute_result"
    }
   ],
   "source": [
    "rr3_df.loc[199, ['Purchase_Cost', 'Service_Time(min)', 'Service_Cost(R$)']]"
   ]
  },
  {
   "cell_type": "markdown",
   "metadata": {},
   "source": [
    "According to this result, it should be an  expensive sports car that belongs to a well-known manufacturer."
   ]
  },
  {
   "cell_type": "markdown",
   "metadata": {},
   "source": [
    "How about the classes and types for vehicles between 251st and 260th index?"
   ]
  },
  {
   "cell_type": "code",
   "execution_count": 53,
   "metadata": {},
   "outputs": [
    {
     "data": {
      "text/html": [
       "<div>\n",
       "<style scoped>\n",
       "    .dataframe tbody tr th:only-of-type {\n",
       "        vertical-align: middle;\n",
       "    }\n",
       "\n",
       "    .dataframe tbody tr th {\n",
       "        vertical-align: top;\n",
       "    }\n",
       "\n",
       "    .dataframe thead th {\n",
       "        text-align: right;\n",
       "    }\n",
       "</style>\n",
       "<table border=\"1\" class=\"dataframe\">\n",
       "  <thead>\n",
       "    <tr style=\"text-align: right;\">\n",
       "      <th></th>\n",
       "      <th>Class</th>\n",
       "      <th>Type</th>\n",
       "    </tr>\n",
       "  </thead>\n",
       "  <tbody>\n",
       "    <tr>\n",
       "      <th>251</th>\n",
       "      <td>R</td>\n",
       "      <td>RR</td>\n",
       "    </tr>\n",
       "    <tr>\n",
       "      <th>252</th>\n",
       "      <td>S</td>\n",
       "      <td>RR</td>\n",
       "    </tr>\n",
       "    <tr>\n",
       "      <th>253</th>\n",
       "      <td>S</td>\n",
       "      <td>RR</td>\n",
       "    </tr>\n",
       "    <tr>\n",
       "      <th>254</th>\n",
       "      <td>P</td>\n",
       "      <td>RR</td>\n",
       "    </tr>\n",
       "    <tr>\n",
       "      <th>255</th>\n",
       "      <td>P</td>\n",
       "      <td>RR</td>\n",
       "    </tr>\n",
       "    <tr>\n",
       "      <th>256</th>\n",
       "      <td>P</td>\n",
       "      <td>MR</td>\n",
       "    </tr>\n",
       "    <tr>\n",
       "      <th>257</th>\n",
       "      <td>P</td>\n",
       "      <td>MR</td>\n",
       "    </tr>\n",
       "    <tr>\n",
       "      <th>258</th>\n",
       "      <td>S</td>\n",
       "      <td>MR</td>\n",
       "    </tr>\n",
       "    <tr>\n",
       "      <th>259</th>\n",
       "      <td>P</td>\n",
       "      <td>MR</td>\n",
       "    </tr>\n",
       "    <tr>\n",
       "      <th>260</th>\n",
       "      <td>R</td>\n",
       "      <td>MR</td>\n",
       "    </tr>\n",
       "  </tbody>\n",
       "</table>\n",
       "</div>"
      ],
      "text/plain": [
       "    Class Type\n",
       "251     R   RR\n",
       "252     S   RR\n",
       "253     S   RR\n",
       "254     P   RR\n",
       "255     P   RR\n",
       "256     P   MR\n",
       "257     P   MR\n",
       "258     S   MR\n",
       "259     P   MR\n",
       "260     R   MR"
      ]
     },
     "execution_count": 53,
     "metadata": {},
     "output_type": "execute_result"
    }
   ],
   "source": [
    "rr3_df.loc[251:260, ['Class', 'Type']]"
   ]
  },
  {
   "cell_type": "markdown",
   "metadata": {},
   "source": [
    "All right, we already have plenty of time to inspect vehicles individually. Now, let's get more detailed info about this data frame.\n",
    "\n",
    "First of all, these are the columns in the data frame I'm working with:"
   ]
  },
  {
   "cell_type": "code",
   "execution_count": 55,
   "metadata": {},
   "outputs": [
    {
     "data": {
      "text/plain": [
       "Index(['Manufacturer', 'Model', 'PR', 'Top_Speed(kph)', 'Acceleration(s)',\n",
       "       'Braking(m)', 'Grip(g)', 'Class', 'Type', 'Series', 'Purchase_Cost',\n",
       "       'Service_Time(min)', 'Service_Cost(R$)', 'Availability'],\n",
       "      dtype='object')"
      ]
     },
     "execution_count": 55,
     "metadata": {},
     "output_type": "execute_result"
    }
   ],
   "source": [
    "rr3_df.columns"
   ]
  },
  {
   "cell_type": "markdown",
   "metadata": {},
   "source": [
    "Here's the shape of the data frame: "
   ]
  },
  {
   "cell_type": "code",
   "execution_count": 59,
   "metadata": {},
   "outputs": [
    {
     "data": {
      "text/plain": [
       "(300, 14)"
      ]
     },
     "execution_count": 59,
     "metadata": {},
     "output_type": "execute_result"
    }
   ],
   "source": [
    "rr3_df.shape"
   ]
  },
  {
   "cell_type": "markdown",
   "metadata": {},
   "source": [
    "How about the general statistics of the features which hold numerical values (i.e. data type of `float64`)?"
   ]
  },
  {
   "cell_type": "code",
   "execution_count": 89,
   "metadata": {},
   "outputs": [
    {
     "data": {
      "text/html": [
       "<div>\n",
       "<style scoped>\n",
       "    .dataframe tbody tr th:only-of-type {\n",
       "        vertical-align: middle;\n",
       "    }\n",
       "\n",
       "    .dataframe tbody tr th {\n",
       "        vertical-align: top;\n",
       "    }\n",
       "\n",
       "    .dataframe thead th {\n",
       "        text-align: right;\n",
       "    }\n",
       "</style>\n",
       "<table border=\"1\" class=\"dataframe\">\n",
       "  <thead>\n",
       "    <tr style=\"text-align: right;\">\n",
       "      <th></th>\n",
       "      <th>PR</th>\n",
       "      <th>Top_Speed(kph)</th>\n",
       "      <th>Acceleration(s)</th>\n",
       "      <th>Braking(m)</th>\n",
       "      <th>Grip(g)</th>\n",
       "      <th>Series</th>\n",
       "      <th>Service_Time(min)</th>\n",
       "      <th>Service_Cost(R$)</th>\n",
       "    </tr>\n",
       "  </thead>\n",
       "  <tbody>\n",
       "    <tr>\n",
       "      <th>count</th>\n",
       "      <td>300.000000</td>\n",
       "      <td>299.000000</td>\n",
       "      <td>299.000000</td>\n",
       "      <td>299.000000</td>\n",
       "      <td>299.000000</td>\n",
       "      <td>300.000000</td>\n",
       "      <td>299.000000</td>\n",
       "      <td>298.000000</td>\n",
       "    </tr>\n",
       "    <tr>\n",
       "      <th>mean</th>\n",
       "      <td>49.685000</td>\n",
       "      <td>310.745819</td>\n",
       "      <td>3.746656</td>\n",
       "      <td>30.746154</td>\n",
       "      <td>1.329130</td>\n",
       "      <td>2.116667</td>\n",
       "      <td>164.662207</td>\n",
       "      <td>1432.013423</td>\n",
       "    </tr>\n",
       "    <tr>\n",
       "      <th>std</th>\n",
       "      <td>26.839124</td>\n",
       "      <td>46.426701</td>\n",
       "      <td>1.959458</td>\n",
       "      <td>5.603481</td>\n",
       "      <td>0.502347</td>\n",
       "      <td>1.113788</td>\n",
       "      <td>61.868796</td>\n",
       "      <td>522.325678</td>\n",
       "    </tr>\n",
       "    <tr>\n",
       "      <th>min</th>\n",
       "      <td>0.100000</td>\n",
       "      <td>180.000000</td>\n",
       "      <td>1.900000</td>\n",
       "      <td>14.300000</td>\n",
       "      <td>0.720000</td>\n",
       "      <td>1.000000</td>\n",
       "      <td>1.000000</td>\n",
       "      <td>0.000000</td>\n",
       "    </tr>\n",
       "    <tr>\n",
       "      <th>25%</th>\n",
       "      <td>34.800000</td>\n",
       "      <td>280.500000</td>\n",
       "      <td>2.870000</td>\n",
       "      <td>28.600000</td>\n",
       "      <td>1.010000</td>\n",
       "      <td>1.000000</td>\n",
       "      <td>142.500000</td>\n",
       "      <td>1185.500000</td>\n",
       "    </tr>\n",
       "    <tr>\n",
       "      <th>50%</th>\n",
       "      <td>48.300000</td>\n",
       "      <td>317.000000</td>\n",
       "      <td>3.500000</td>\n",
       "      <td>30.400000</td>\n",
       "      <td>1.160000</td>\n",
       "      <td>2.000000</td>\n",
       "      <td>180.000000</td>\n",
       "      <td>1510.000000</td>\n",
       "    </tr>\n",
       "    <tr>\n",
       "      <th>75%</th>\n",
       "      <td>66.250000</td>\n",
       "      <td>333.000000</td>\n",
       "      <td>4.090000</td>\n",
       "      <td>32.300000</td>\n",
       "      <td>1.495000</td>\n",
       "      <td>3.000000</td>\n",
       "      <td>180.000000</td>\n",
       "      <td>1910.500000</td>\n",
       "    </tr>\n",
       "    <tr>\n",
       "      <th>max</th>\n",
       "      <td>130.300000</td>\n",
       "      <td>447.000000</td>\n",
       "      <td>30.900000</td>\n",
       "      <td>48.700000</td>\n",
       "      <td>4.000000</td>\n",
       "      <td>7.000000</td>\n",
       "      <td>325.000000</td>\n",
       "      <td>2192.000000</td>\n",
       "    </tr>\n",
       "  </tbody>\n",
       "</table>\n",
       "</div>"
      ],
      "text/plain": [
       "               PR  Top_Speed(kph)  Acceleration(s)  Braking(m)     Grip(g)  \\\n",
       "count  300.000000      299.000000       299.000000  299.000000  299.000000   \n",
       "mean    49.685000      310.745819         3.746656   30.746154    1.329130   \n",
       "std     26.839124       46.426701         1.959458    5.603481    0.502347   \n",
       "min      0.100000      180.000000         1.900000   14.300000    0.720000   \n",
       "25%     34.800000      280.500000         2.870000   28.600000    1.010000   \n",
       "50%     48.300000      317.000000         3.500000   30.400000    1.160000   \n",
       "75%     66.250000      333.000000         4.090000   32.300000    1.495000   \n",
       "max    130.300000      447.000000        30.900000   48.700000    4.000000   \n",
       "\n",
       "           Series  Service_Time(min)  Service_Cost(R$)  \n",
       "count  300.000000         299.000000        298.000000  \n",
       "mean     2.116667         164.662207       1432.013423  \n",
       "std      1.113788          61.868796        522.325678  \n",
       "min      1.000000           1.000000          0.000000  \n",
       "25%      1.000000         142.500000       1185.500000  \n",
       "50%      2.000000         180.000000       1510.000000  \n",
       "75%      3.000000         180.000000       1910.500000  \n",
       "max      7.000000         325.000000       2192.000000  "
      ]
     },
     "execution_count": 89,
     "metadata": {},
     "output_type": "execute_result"
    }
   ],
   "source": [
    "rr3_df.describe()"
   ]
  },
  {
   "cell_type": "markdown",
   "metadata": {},
   "source": [
    "Whoa, look at that! That's lots of info we obtained just from one command! Well, it already explains itself!\n",
    "\n",
    "What makes me wondering is that why the count value for several features is not the exact number, except for PR and Series.\n",
    "\n",
    "Therefore, I want to find out which row(s) have missing values, possibly NaN values."
   ]
  },
  {
   "cell_type": "code",
   "execution_count": 105,
   "metadata": {},
   "outputs": [
    {
     "data": {
      "text/html": [
       "<div>\n",
       "<style scoped>\n",
       "    .dataframe tbody tr th:only-of-type {\n",
       "        vertical-align: middle;\n",
       "    }\n",
       "\n",
       "    .dataframe tbody tr th {\n",
       "        vertical-align: top;\n",
       "    }\n",
       "\n",
       "    .dataframe thead th {\n",
       "        text-align: right;\n",
       "    }\n",
       "</style>\n",
       "<table border=\"1\" class=\"dataframe\">\n",
       "  <thead>\n",
       "    <tr style=\"text-align: right;\">\n",
       "      <th></th>\n",
       "      <th>Manufacturer</th>\n",
       "      <th>Model</th>\n",
       "      <th>PR</th>\n",
       "      <th>Top_Speed(kph)</th>\n",
       "      <th>Acceleration(s)</th>\n",
       "      <th>Braking(m)</th>\n",
       "      <th>Grip(g)</th>\n",
       "      <th>Class</th>\n",
       "      <th>Type</th>\n",
       "      <th>Series</th>\n",
       "      <th>Purchase_Cost</th>\n",
       "      <th>Service_Time(min)</th>\n",
       "      <th>Service_Cost(R$)</th>\n",
       "      <th>Availability</th>\n",
       "    </tr>\n",
       "  </thead>\n",
       "  <tbody>\n",
       "    <tr>\n",
       "      <th>216</th>\n",
       "      <td>Mercedes-AMG</td>\n",
       "      <td>GT R F1 Safety Car</td>\n",
       "      <td>43.2</td>\n",
       "      <td>NaN</td>\n",
       "      <td>NaN</td>\n",
       "      <td>NaN</td>\n",
       "      <td>NaN</td>\n",
       "      <td>R</td>\n",
       "      <td>FR</td>\n",
       "      <td>1</td>\n",
       "      <td>NaN</td>\n",
       "      <td>NaN</td>\n",
       "      <td>NaN</td>\n",
       "      <td>True</td>\n",
       "    </tr>\n",
       "  </tbody>\n",
       "</table>\n",
       "</div>"
      ],
      "text/plain": [
       "     Manufacturer               Model    PR  Top_Speed(kph)  Acceleration(s)  \\\n",
       "216  Mercedes-AMG  GT R F1 Safety Car  43.2             NaN              NaN   \n",
       "\n",
       "     Braking(m)  Grip(g) Class Type  Series Purchase_Cost  Service_Time(min)  \\\n",
       "216         NaN      NaN     R   FR       1           NaN                NaN   \n",
       "\n",
       "     Service_Cost(R$)  Availability  \n",
       "216               NaN          True  "
      ]
     },
     "execution_count": 105,
     "metadata": {},
     "output_type": "execute_result"
    }
   ],
   "source": [
    "rr3_df[rr3_df['Top_Speed(kph)'].isnull()]"
   ]
  },
  {
   "cell_type": "markdown",
   "metadata": {},
   "source": [
    "A-ha! That's the vehicle which causes the 'count' value for numerical ones have 1 less!\n",
    "\n",
    "This indicates that Formula 1 Safety Car's properties have not been entered in the data frame yet.\n",
    "\n",
    "In addition, count of `Service_Cost(R$)` is actually 2 less. Which might be the other vehicle whose service cost is missing?"
   ]
  },
  {
   "cell_type": "code",
   "execution_count": 106,
   "metadata": {},
   "outputs": [
    {
     "data": {
      "text/html": [
       "<div>\n",
       "<style scoped>\n",
       "    .dataframe tbody tr th:only-of-type {\n",
       "        vertical-align: middle;\n",
       "    }\n",
       "\n",
       "    .dataframe tbody tr th {\n",
       "        vertical-align: top;\n",
       "    }\n",
       "\n",
       "    .dataframe thead th {\n",
       "        text-align: right;\n",
       "    }\n",
       "</style>\n",
       "<table border=\"1\" class=\"dataframe\">\n",
       "  <thead>\n",
       "    <tr style=\"text-align: right;\">\n",
       "      <th></th>\n",
       "      <th>Manufacturer</th>\n",
       "      <th>Model</th>\n",
       "      <th>PR</th>\n",
       "      <th>Top_Speed(kph)</th>\n",
       "      <th>Acceleration(s)</th>\n",
       "      <th>Braking(m)</th>\n",
       "      <th>Grip(g)</th>\n",
       "      <th>Class</th>\n",
       "      <th>Type</th>\n",
       "      <th>Series</th>\n",
       "      <th>Purchase_Cost</th>\n",
       "      <th>Service_Time(min)</th>\n",
       "      <th>Service_Cost(R$)</th>\n",
       "      <th>Availability</th>\n",
       "    </tr>\n",
       "  </thead>\n",
       "  <tbody>\n",
       "    <tr>\n",
       "      <th>157</th>\n",
       "      <td>Koenigsegg</td>\n",
       "      <td>Agera RS</td>\n",
       "      <td>82.1</td>\n",
       "      <td>447.0</td>\n",
       "      <td>2.56</td>\n",
       "      <td>28.3</td>\n",
       "      <td>1.6</td>\n",
       "      <td>S</td>\n",
       "      <td>MR</td>\n",
       "      <td>1</td>\n",
       "      <td>1000 Gold</td>\n",
       "      <td>180.0</td>\n",
       "      <td>NaN</td>\n",
       "      <td>True</td>\n",
       "    </tr>\n",
       "    <tr>\n",
       "      <th>216</th>\n",
       "      <td>Mercedes-AMG</td>\n",
       "      <td>GT R F1 Safety Car</td>\n",
       "      <td>43.2</td>\n",
       "      <td>NaN</td>\n",
       "      <td>NaN</td>\n",
       "      <td>NaN</td>\n",
       "      <td>NaN</td>\n",
       "      <td>R</td>\n",
       "      <td>FR</td>\n",
       "      <td>1</td>\n",
       "      <td>NaN</td>\n",
       "      <td>NaN</td>\n",
       "      <td>NaN</td>\n",
       "      <td>True</td>\n",
       "    </tr>\n",
       "  </tbody>\n",
       "</table>\n",
       "</div>"
      ],
      "text/plain": [
       "     Manufacturer               Model    PR  Top_Speed(kph)  Acceleration(s)  \\\n",
       "157    Koenigsegg            Agera RS  82.1           447.0             2.56   \n",
       "216  Mercedes-AMG  GT R F1 Safety Car  43.2             NaN              NaN   \n",
       "\n",
       "     Braking(m)  Grip(g) Class Type  Series Purchase_Cost  Service_Time(min)  \\\n",
       "157        28.3      1.6     S   MR       1     1000 Gold              180.0   \n",
       "216         NaN      NaN     R   FR       1           NaN                NaN   \n",
       "\n",
       "     Service_Cost(R$)  Availability  \n",
       "157               NaN          True  \n",
       "216               NaN          True  "
      ]
     },
     "execution_count": 106,
     "metadata": {},
     "output_type": "execute_result"
    }
   ],
   "source": [
    "rr3_df[rr3_df['Service_Cost(R$)'].isnull()]"
   ]
  },
  {
   "cell_type": "markdown",
   "metadata": {},
   "source": [
    "Ah yes! I remembered that Koenigsegg Agera RS was added in version 8.0 and I did not include the corresponding value. Perhaps I should consider filling the value there in the next update of this data frame...\n",
    "\n",
    "OK, I've got this knowledge, let's continue motivating myself...\n",
    "\n",
    "With `describe()` method, I've seen many helpful decimal values. Can I do the same with `numpy` methods? Let's try them on PR column:"
   ]
  },
  {
   "cell_type": "code",
   "execution_count": 123,
   "metadata": {},
   "outputs": [
    {
     "name": "stdout",
     "output_type": "stream",
     "text": [
      "Count: 300, Mean: 49.7, Std. dev.: 26.794\n"
     ]
    }
   ],
   "source": [
    "PR = rr3_df['PR'].values\n",
    "print(\"Count: {}, Mean: {:.3}, Std. dev.: {:.5}\".format(PR.size, PR.mean(), PR.std()))"
   ]
  },
  {
   "cell_type": "code",
   "execution_count": 124,
   "metadata": {},
   "outputs": [
    {
     "name": "stdout",
     "output_type": "stream",
     "text": [
      "Min: 0.1, Max: 130.3\n"
     ]
    }
   ],
   "source": [
    "print(\"Min: {}, Max: {}\".format(PR.min(), PR.max()))"
   ]
  },
  {
   "cell_type": "code",
   "execution_count": 132,
   "metadata": {},
   "outputs": [
    {
     "name": "stdout",
     "output_type": "stream",
     "text": [
      "25th, 50th, 75th  precent values: [34.8  48.3  66.25]\n"
     ]
    }
   ],
   "source": [
    "print(\"25th, 50th, 75th  precent values: {}\".format(np.percentile(PR, [25, 50, 75])))"
   ]
  },
  {
   "cell_type": "markdown",
   "metadata": {},
   "source": [
    "Yep, they are all doable! By obtaining this information above, I'd like to know which vehicles have the lowest and highest PR values."
   ]
  },
  {
   "cell_type": "code",
   "execution_count": 137,
   "metadata": {},
   "outputs": [
    {
     "data": {
      "text/html": [
       "<div>\n",
       "<style scoped>\n",
       "    .dataframe tbody tr th:only-of-type {\n",
       "        vertical-align: middle;\n",
       "    }\n",
       "\n",
       "    .dataframe tbody tr th {\n",
       "        vertical-align: top;\n",
       "    }\n",
       "\n",
       "    .dataframe thead th {\n",
       "        text-align: right;\n",
       "    }\n",
       "</style>\n",
       "<table border=\"1\" class=\"dataframe\">\n",
       "  <thead>\n",
       "    <tr style=\"text-align: right;\">\n",
       "      <th></th>\n",
       "      <th>Manufacturer</th>\n",
       "      <th>Model</th>\n",
       "      <th>Purchase_Cost</th>\n",
       "    </tr>\n",
       "  </thead>\n",
       "  <tbody>\n",
       "    <tr>\n",
       "      <th>187</th>\n",
       "      <td>Mazda</td>\n",
       "      <td>RX-3</td>\n",
       "      <td>50 Gold</td>\n",
       "    </tr>\n",
       "    <tr>\n",
       "      <th>220</th>\n",
       "      <td>Nissan</td>\n",
       "      <td>Skyline 2000 GT-R (KPGC10)</td>\n",
       "      <td>50 Gold</td>\n",
       "    </tr>\n",
       "    <tr>\n",
       "      <th>245</th>\n",
       "      <td>Porsche</td>\n",
       "      <td>911 Targa (1974)</td>\n",
       "      <td>53000 R$</td>\n",
       "    </tr>\n",
       "  </tbody>\n",
       "</table>\n",
       "</div>"
      ],
      "text/plain": [
       "    Manufacturer                       Model Purchase_Cost\n",
       "187        Mazda                        RX-3       50 Gold\n",
       "220       Nissan  Skyline 2000 GT-R (KPGC10)       50 Gold\n",
       "245      Porsche            911 Targa (1974)      53000 R$"
      ]
     },
     "execution_count": 137,
     "metadata": {},
     "output_type": "execute_result"
    }
   ],
   "source": [
    "lowest_PR = rr3_df[rr3_df['PR'] == 0.1]\n",
    "lowest_PR.loc[:, ['Manufacturer', 'Model', 'Purchase_Cost']]"
   ]
  },
  {
   "cell_type": "markdown",
   "metadata": {},
   "source": [
    "The lowest PR value is shared by 3 vehicles, not one! Well, why do Mazda RX-3 and Nissan Skyline 2000 GT-R cost Gold to buy then instead of R$?"
   ]
  },
  {
   "cell_type": "code",
   "execution_count": 153,
   "metadata": {},
   "outputs": [
    {
     "data": {
      "text/html": [
       "<div>\n",
       "<style scoped>\n",
       "    .dataframe tbody tr th:only-of-type {\n",
       "        vertical-align: middle;\n",
       "    }\n",
       "\n",
       "    .dataframe tbody tr th {\n",
       "        vertical-align: top;\n",
       "    }\n",
       "\n",
       "    .dataframe thead th {\n",
       "        text-align: right;\n",
       "    }\n",
       "</style>\n",
       "<table border=\"1\" class=\"dataframe\">\n",
       "  <thead>\n",
       "    <tr style=\"text-align: right;\">\n",
       "      <th></th>\n",
       "      <th>Manufacturer</th>\n",
       "      <th>Model</th>\n",
       "      <th>Top_Speed(kph)</th>\n",
       "      <th>Acceleration(s)</th>\n",
       "      <th>Braking(m)</th>\n",
       "      <th>Grip(g)</th>\n",
       "      <th>Purchase_Cost</th>\n",
       "    </tr>\n",
       "  </thead>\n",
       "  <tbody>\n",
       "    <tr>\n",
       "      <th>204</th>\n",
       "      <td>McLaren</td>\n",
       "      <td>MP4-X</td>\n",
       "      <td>402.0</td>\n",
       "      <td>1.9</td>\n",
       "      <td>14.3</td>\n",
       "      <td>4.0</td>\n",
       "      <td>1200 Gold</td>\n",
       "    </tr>\n",
       "  </tbody>\n",
       "</table>\n",
       "</div>"
      ],
      "text/plain": [
       "    Manufacturer  Model  Top_Speed(kph)  Acceleration(s)  Braking(m)  Grip(g)  \\\n",
       "204      McLaren  MP4-X           402.0              1.9        14.3      4.0   \n",
       "\n",
       "    Purchase_Cost  \n",
       "204     1200 Gold  "
      ]
     },
     "execution_count": 153,
     "metadata": {},
     "output_type": "execute_result"
    }
   ],
   "source": [
    "highest_PR = rr3_df[rr3_df['PR'] == 130.3]\n",
    "highest_PR.iloc[:,[0,1,3,4,5,6,10]]"
   ]
  },
  {
   "cell_type": "markdown",
   "metadata": {},
   "source": [
    "Wow! McLaren MP4-X must be immensely fast! This futuristic vehicle really deserves to have the highest PR in the game. Moreover, it has the highest acceleration, cornering grip and lowest braking distance!\n",
    "\n",
    "On the other hand, w.r.t. top speed, it doesn't have the highest! So, which one?"
   ]
  },
  {
   "cell_type": "code",
   "execution_count": 161,
   "metadata": {},
   "outputs": [
    {
     "data": {
      "text/html": [
       "<div>\n",
       "<style scoped>\n",
       "    .dataframe tbody tr th:only-of-type {\n",
       "        vertical-align: middle;\n",
       "    }\n",
       "\n",
       "    .dataframe tbody tr th {\n",
       "        vertical-align: top;\n",
       "    }\n",
       "\n",
       "    .dataframe thead th {\n",
       "        text-align: right;\n",
       "    }\n",
       "</style>\n",
       "<table border=\"1\" class=\"dataframe\">\n",
       "  <thead>\n",
       "    <tr style=\"text-align: right;\">\n",
       "      <th></th>\n",
       "      <th>Manufacturer</th>\n",
       "      <th>Model</th>\n",
       "      <th>Top_Speed(kph)</th>\n",
       "    </tr>\n",
       "  </thead>\n",
       "  <tbody>\n",
       "    <tr>\n",
       "      <th>157</th>\n",
       "      <td>Koenigsegg</td>\n",
       "      <td>Agera RS</td>\n",
       "      <td>447.0</td>\n",
       "    </tr>\n",
       "  </tbody>\n",
       "</table>\n",
       "</div>"
      ],
      "text/plain": [
       "    Manufacturer     Model  Top_Speed(kph)\n",
       "157   Koenigsegg  Agera RS           447.0"
      ]
     },
     "execution_count": 161,
     "metadata": {},
     "output_type": "execute_result"
    }
   ],
   "source": [
    "highest_TS = rr3_df['Top_Speed(kph)'].max()\n",
    "highest_TS_name = rr3_df[rr3_df['Top_Speed(kph)'] == highest_TS]\n",
    "highest_TS_name[['Manufacturer', 'Model', 'Top_Speed(kph)']]"
   ]
  },
  {
   "cell_type": "markdown",
   "metadata": {},
   "source": [
    "Aah! The newly added Koenigsegg Agera RS has the highest top speed (447 kph) even with no upgrades!\n",
    "\n",
    "Now, I wonder which vehicle appears the most throughout the career series."
   ]
  },
  {
   "cell_type": "code",
   "execution_count": 158,
   "metadata": {},
   "outputs": [
    {
     "data": {
      "text/html": [
       "<div>\n",
       "<style scoped>\n",
       "    .dataframe tbody tr th:only-of-type {\n",
       "        vertical-align: middle;\n",
       "    }\n",
       "\n",
       "    .dataframe tbody tr th {\n",
       "        vertical-align: top;\n",
       "    }\n",
       "\n",
       "    .dataframe thead th {\n",
       "        text-align: right;\n",
       "    }\n",
       "</style>\n",
       "<table border=\"1\" class=\"dataframe\">\n",
       "  <thead>\n",
       "    <tr style=\"text-align: right;\">\n",
       "      <th></th>\n",
       "      <th>Manufacturer</th>\n",
       "      <th>Model</th>\n",
       "      <th>PR</th>\n",
       "      <th>Top_Speed(kph)</th>\n",
       "      <th>Acceleration(s)</th>\n",
       "      <th>Braking(m)</th>\n",
       "      <th>Grip(g)</th>\n",
       "      <th>Class</th>\n",
       "      <th>Type</th>\n",
       "      <th>Series</th>\n",
       "      <th>Purchase_Cost</th>\n",
       "      <th>Service_Time(min)</th>\n",
       "      <th>Service_Cost(R$)</th>\n",
       "      <th>Availability</th>\n",
       "    </tr>\n",
       "  </thead>\n",
       "  <tbody>\n",
       "    <tr>\n",
       "      <th>263</th>\n",
       "      <td>Porsche</td>\n",
       "      <td>918 Spyder Concept</td>\n",
       "      <td>60.2</td>\n",
       "      <td>321.0</td>\n",
       "      <td>3.0</td>\n",
       "      <td>30.1</td>\n",
       "      <td>1.39</td>\n",
       "      <td>S</td>\n",
       "      <td>M4</td>\n",
       "      <td>7</td>\n",
       "      <td>845000 R$</td>\n",
       "      <td>215.0</td>\n",
       "      <td>1605.0</td>\n",
       "      <td>True</td>\n",
       "    </tr>\n",
       "  </tbody>\n",
       "</table>\n",
       "</div>"
      ],
      "text/plain": [
       "    Manufacturer               Model    PR  Top_Speed(kph)  Acceleration(s)  \\\n",
       "263      Porsche  918 Spyder Concept  60.2           321.0              3.0   \n",
       "\n",
       "     Braking(m)  Grip(g) Class Type  Series Purchase_Cost  Service_Time(min)  \\\n",
       "263        30.1     1.39     S   M4       7     845000 R$              215.0   \n",
       "\n",
       "     Service_Cost(R$)  Availability  \n",
       "263            1605.0          True  "
      ]
     },
     "execution_count": 158,
     "metadata": {},
     "output_type": "execute_result"
    }
   ],
   "source": [
    "highest_series = rr3_df['Series'].max()\n",
    "rr3_df[rr3_df['Series'] == highest_series]"
   ]
  },
  {
   "cell_type": "markdown",
   "metadata": {},
   "source": [
    "Ah yes, one of my favourite vehicle here: Porsche 918 Spyder Concept. Should this be a good choice to go for full upgrade?"
   ]
  },
  {
   "cell_type": "markdown",
   "metadata": {},
   "source": [
    "OK, lastly, through these numbers above, I noticed that the minimum required servicing time is just 1 minute.\n",
    "Thus, which vehicle does almost not need much servicing time?"
   ]
  },
  {
   "cell_type": "code",
   "execution_count": 162,
   "metadata": {},
   "outputs": [
    {
     "data": {
      "text/html": [
       "<div>\n",
       "<style scoped>\n",
       "    .dataframe tbody tr th:only-of-type {\n",
       "        vertical-align: middle;\n",
       "    }\n",
       "\n",
       "    .dataframe tbody tr th {\n",
       "        vertical-align: top;\n",
       "    }\n",
       "\n",
       "    .dataframe thead th {\n",
       "        text-align: right;\n",
       "    }\n",
       "</style>\n",
       "<table border=\"1\" class=\"dataframe\">\n",
       "  <thead>\n",
       "    <tr style=\"text-align: right;\">\n",
       "      <th></th>\n",
       "      <th>Manufacturer</th>\n",
       "      <th>Model</th>\n",
       "      <th>PR</th>\n",
       "      <th>Top_Speed(kph)</th>\n",
       "      <th>Acceleration(s)</th>\n",
       "      <th>Braking(m)</th>\n",
       "      <th>Grip(g)</th>\n",
       "      <th>Class</th>\n",
       "      <th>Type</th>\n",
       "      <th>Series</th>\n",
       "      <th>Purchase_Cost</th>\n",
       "      <th>Service_Time(min)</th>\n",
       "      <th>Service_Cost(R$)</th>\n",
       "      <th>Availability</th>\n",
       "    </tr>\n",
       "  </thead>\n",
       "  <tbody>\n",
       "    <tr>\n",
       "      <th>217</th>\n",
       "      <td>Nissan</td>\n",
       "      <td>Silvia (S15)</td>\n",
       "      <td>1.7</td>\n",
       "      <td>243.0</td>\n",
       "      <td>5.5</td>\n",
       "      <td>34.4</td>\n",
       "      <td>0.85</td>\n",
       "      <td>P</td>\n",
       "      <td>FR(RHD)</td>\n",
       "      <td>3</td>\n",
       "      <td>25700 R$</td>\n",
       "      <td>1.0</td>\n",
       "      <td>342.0</td>\n",
       "      <td>True</td>\n",
       "    </tr>\n",
       "  </tbody>\n",
       "</table>\n",
       "</div>"
      ],
      "text/plain": [
       "    Manufacturer         Model   PR  Top_Speed(kph)  Acceleration(s)  \\\n",
       "217       Nissan  Silvia (S15)  1.7           243.0              5.5   \n",
       "\n",
       "     Braking(m)  Grip(g) Class     Type  Series Purchase_Cost  \\\n",
       "217        34.4     0.85     P  FR(RHD)       3      25700 R$   \n",
       "\n",
       "     Service_Time(min)  Service_Cost(R$)  Availability  \n",
       "217                1.0             342.0          True  "
      ]
     },
     "execution_count": 162,
     "metadata": {},
     "output_type": "execute_result"
    }
   ],
   "source": [
    "minimum_service_time = rr3_df['Service_Time(min)'].min()\n",
    "rr3_df[rr3_df['Service_Time(min)'] == minimum_service_time]"
   ]
  },
  {
   "cell_type": "markdown",
   "metadata": {},
   "source": [
    "Hey, that's our good old friend Nissan Silvia! That was our first vehicle ever to own when we were newcomers in the game, right? Plus, it shouldn't be so expensive to get it as fully upgraded, though!\n",
    "\n",
    "In contrast, now, which one has the highest servicing time?"
   ]
  },
  {
   "cell_type": "code",
   "execution_count": 163,
   "metadata": {},
   "outputs": [
    {
     "data": {
      "text/html": [
       "<div>\n",
       "<style scoped>\n",
       "    .dataframe tbody tr th:only-of-type {\n",
       "        vertical-align: middle;\n",
       "    }\n",
       "\n",
       "    .dataframe tbody tr th {\n",
       "        vertical-align: top;\n",
       "    }\n",
       "\n",
       "    .dataframe thead th {\n",
       "        text-align: right;\n",
       "    }\n",
       "</style>\n",
       "<table border=\"1\" class=\"dataframe\">\n",
       "  <thead>\n",
       "    <tr style=\"text-align: right;\">\n",
       "      <th></th>\n",
       "      <th>Manufacturer</th>\n",
       "      <th>Model</th>\n",
       "      <th>PR</th>\n",
       "      <th>Top_Speed(kph)</th>\n",
       "      <th>Acceleration(s)</th>\n",
       "      <th>Braking(m)</th>\n",
       "      <th>Grip(g)</th>\n",
       "      <th>Class</th>\n",
       "      <th>Type</th>\n",
       "      <th>Series</th>\n",
       "      <th>Purchase_Cost</th>\n",
       "      <th>Service_Time(min)</th>\n",
       "      <th>Service_Cost(R$)</th>\n",
       "      <th>Availability</th>\n",
       "    </tr>\n",
       "  </thead>\n",
       "  <tbody>\n",
       "    <tr>\n",
       "      <th>299</th>\n",
       "      <td>Toyota</td>\n",
       "      <td>TS040 Hybrid (2014)</td>\n",
       "      <td>89.4</td>\n",
       "      <td>394.0</td>\n",
       "      <td>2.5</td>\n",
       "      <td>26.2</td>\n",
       "      <td>1.82</td>\n",
       "      <td>R</td>\n",
       "      <td>M4</td>\n",
       "      <td>2</td>\n",
       "      <td>950 Gold</td>\n",
       "      <td>325.0</td>\n",
       "      <td>2192.0</td>\n",
       "      <td>True</td>\n",
       "    </tr>\n",
       "  </tbody>\n",
       "</table>\n",
       "</div>"
      ],
      "text/plain": [
       "    Manufacturer                Model    PR  Top_Speed(kph)  Acceleration(s)  \\\n",
       "299       Toyota  TS040 Hybrid (2014)  89.4           394.0              2.5   \n",
       "\n",
       "     Braking(m)  Grip(g) Class Type  Series Purchase_Cost  Service_Time(min)  \\\n",
       "299        26.2     1.82     R   M4       2      950 Gold              325.0   \n",
       "\n",
       "     Service_Cost(R$)  Availability  \n",
       "299            2192.0          True  "
      ]
     },
     "execution_count": 163,
     "metadata": {},
     "output_type": "execute_result"
    }
   ],
   "source": [
    "max_service_time = rr3_df['Service_Time(min)'].max()\n",
    "rr3_df[rr3_df['Service_Time(min)'] == max_service_time]"
   ]
  },
  {
   "cell_type": "markdown",
   "metadata": {},
   "source": [
    "Ah, it's a Toyota! But, not a street legal vehicle; instead, from Endurance Motorsport Series. I figured out that it needs 5 hours 25 minutes to have it fully serviced. Likewise, the highest servicing cost belongs to this vehicle, too!"
   ]
  },
  {
   "cell_type": "code",
   "execution_count": 169,
   "metadata": {},
   "outputs": [
    {
     "name": "stdout",
     "output_type": "stream",
     "text": [
      "Median of service time: 180.0\n"
     ]
    },
    {
     "data": {
      "text/plain": [
       "138"
      ]
     },
     "execution_count": 169,
     "metadata": {},
     "output_type": "execute_result"
    }
   ],
   "source": [
    "median_service_time = rr3_df['Service_Time(min)'].median()\n",
    "print(\"Median of service time:\", median_service_time)\n",
    "rr3_df[rr3_df['Service_Time(min)'] == median_service_time].shape[0]"
   ]
  },
  {
   "cell_type": "markdown",
   "metadata": {},
   "source": [
    "OK, it's not surprising that the median value of servicing time is 180 minutes = 3 hours, since many new vehicles that were added through the latest updates, especially the expensive ones have their service times set to that value. Now, it's been raised to 138 vehicles!\n",
    "\n",
    "For this reason, this time value is definitely dominant among all!"
   ]
  },
  {
   "cell_type": "code",
   "execution_count": 171,
   "metadata": {},
   "outputs": [
    {
     "name": "stdout",
     "output_type": "stream",
     "text": [
      "Ratio of vehicles having service time of 3 hours: 46.0 percent\n"
     ]
    }
   ],
   "source": [
    "print(\"Ratio of vehicles having service time of 3 hours: {} percent\".format(138/rr3_df.shape[0] * 100))"
   ]
  },
  {
   "cell_type": "markdown",
   "metadata": {},
   "source": [
    "By doing a simple calculation here, we imply that accounts for 46% of the vehicles.\n",
    "\n",
    "One last thing which surprises me that there does exist one or more vehicles with NO service cost. Hmmm, what are those?"
   ]
  },
  {
   "cell_type": "code",
   "execution_count": 174,
   "metadata": {},
   "outputs": [
    {
     "data": {
      "text/html": [
       "<div>\n",
       "<style scoped>\n",
       "    .dataframe tbody tr th:only-of-type {\n",
       "        vertical-align: middle;\n",
       "    }\n",
       "\n",
       "    .dataframe tbody tr th {\n",
       "        vertical-align: top;\n",
       "    }\n",
       "\n",
       "    .dataframe thead th {\n",
       "        text-align: right;\n",
       "    }\n",
       "</style>\n",
       "<table border=\"1\" class=\"dataframe\">\n",
       "  <thead>\n",
       "    <tr style=\"text-align: right;\">\n",
       "      <th></th>\n",
       "      <th>Manufacturer</th>\n",
       "      <th>Model</th>\n",
       "      <th>Service_Time(min)</th>\n",
       "    </tr>\n",
       "  </thead>\n",
       "  <tbody>\n",
       "    <tr>\n",
       "      <th>121</th>\n",
       "      <td>Formula 1</td>\n",
       "      <td>F1 Academy Car</td>\n",
       "      <td>180.0</td>\n",
       "    </tr>\n",
       "    <tr>\n",
       "      <th>122</th>\n",
       "      <td>Formula 1</td>\n",
       "      <td>Renault F1 Team R.S. 19</td>\n",
       "      <td>180.0</td>\n",
       "    </tr>\n",
       "    <tr>\n",
       "      <th>123</th>\n",
       "      <td>Formula 1</td>\n",
       "      <td>Red Bull Racing RB15</td>\n",
       "      <td>180.0</td>\n",
       "    </tr>\n",
       "    <tr>\n",
       "      <th>124</th>\n",
       "      <td>Formula 1</td>\n",
       "      <td>Toro Rosso STR14</td>\n",
       "      <td>180.0</td>\n",
       "    </tr>\n",
       "    <tr>\n",
       "      <th>125</th>\n",
       "      <td>Formula 1</td>\n",
       "      <td>Scuderia Ferrari SF90</td>\n",
       "      <td>180.0</td>\n",
       "    </tr>\n",
       "    <tr>\n",
       "      <th>126</th>\n",
       "      <td>Formula 1</td>\n",
       "      <td>Mercedes-AMG Petronas Motorsport F1 W10 EQ Power+</td>\n",
       "      <td>180.0</td>\n",
       "    </tr>\n",
       "    <tr>\n",
       "      <th>127</th>\n",
       "      <td>Formula 1</td>\n",
       "      <td>Haas F1 Team VF-19</td>\n",
       "      <td>180.0</td>\n",
       "    </tr>\n",
       "    <tr>\n",
       "      <th>128</th>\n",
       "      <td>Formula 1</td>\n",
       "      <td>Alfa Romeo Racing C38</td>\n",
       "      <td>180.0</td>\n",
       "    </tr>\n",
       "    <tr>\n",
       "      <th>129</th>\n",
       "      <td>Formula 1</td>\n",
       "      <td>McLaren F1 Team MCL34</td>\n",
       "      <td>180.0</td>\n",
       "    </tr>\n",
       "    <tr>\n",
       "      <th>130</th>\n",
       "      <td>Formula 1</td>\n",
       "      <td>SPScore Racing Point RP19</td>\n",
       "      <td>180.0</td>\n",
       "    </tr>\n",
       "    <tr>\n",
       "      <th>131</th>\n",
       "      <td>Formula 1</td>\n",
       "      <td>Rokit Williams Racing FW42</td>\n",
       "      <td>180.0</td>\n",
       "    </tr>\n",
       "  </tbody>\n",
       "</table>\n",
       "</div>"
      ],
      "text/plain": [
       "    Manufacturer                                              Model  \\\n",
       "121    Formula 1                                     F1 Academy Car   \n",
       "122    Formula 1                            Renault F1 Team R.S. 19   \n",
       "123    Formula 1                               Red Bull Racing RB15   \n",
       "124    Formula 1                                   Toro Rosso STR14   \n",
       "125    Formula 1                              Scuderia Ferrari SF90   \n",
       "126    Formula 1  Mercedes-AMG Petronas Motorsport F1 W10 EQ Power+   \n",
       "127    Formula 1                                 Haas F1 Team VF-19   \n",
       "128    Formula 1                              Alfa Romeo Racing C38   \n",
       "129    Formula 1                              McLaren F1 Team MCL34   \n",
       "130    Formula 1                          SPScore Racing Point RP19   \n",
       "131    Formula 1                         Rokit Williams Racing FW42   \n",
       "\n",
       "     Service_Time(min)  \n",
       "121              180.0  \n",
       "122              180.0  \n",
       "123              180.0  \n",
       "124              180.0  \n",
       "125              180.0  \n",
       "126              180.0  \n",
       "127              180.0  \n",
       "128              180.0  \n",
       "129              180.0  \n",
       "130              180.0  \n",
       "131              180.0  "
      ]
     },
     "execution_count": 174,
     "metadata": {},
     "output_type": "execute_result"
    }
   ],
   "source": [
    "no_service_cost = rr3_df[rr3_df['Service_Cost(R$)'] == 0]\n",
    "no_service_cost.loc[:,['Manufacturer', 'Model', 'Service_Time(min)']]"
   ]
  },
  {
   "cell_type": "markdown",
   "metadata": {},
   "source": [
    "Oh my goodness! These are the vehicles from 2019 season of Formula 1 which do not cost anything to service! I suppose there seem to be privileges on these vehicles since F1 series was the last one added through the motorsport series in the game! Anyway, they all share in common 3 hours of servicing time..."
   ]
  },
  {
   "cell_type": "markdown",
   "metadata": {},
   "source": [
    "### **All right folks, that's all for the 1st outcome page for Vehicles in Real Racing 3!**\n",
    "\n",
    "**In the next part, I will reveal more statistical info for better insight of this dataset; and putting some visualization charts will be nice here!**"
   ]
  }
 ],
 "metadata": {
  "kernelspec": {
   "display_name": "Python 3",
   "language": "python",
   "name": "python3"
  },
  "language_info": {
   "codemirror_mode": {
    "name": "ipython",
    "version": 3
   },
   "file_extension": ".py",
   "mimetype": "text/x-python",
   "name": "python",
   "nbconvert_exporter": "python",
   "pygments_lexer": "ipython3",
   "version": "3.7.1"
  }
 },
 "nbformat": 4,
 "nbformat_minor": 2
}
