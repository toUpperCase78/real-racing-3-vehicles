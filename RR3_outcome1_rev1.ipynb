{
 "cells": [
  {
   "cell_type": "markdown",
   "metadata": {},
   "source": [
    "# REAL RACING 3 VEHICLES - DATA ANALYSIS - OUTCOME 1 (Revision 1)"
   ]
  },
  {
   "cell_type": "markdown",
   "metadata": {},
   "source": [
    "### **Welcome to my 1st part of data analysis page for Real Racing 3 Vehicles!**\n",
    "\n",
    "This first outcome part has been **revised for game version 8.4**, in order to keep the analysis up-to-date for the currently available vehicles in the game.\n",
    "\n",
    "As always, we must begin with importing the necessary modules first."
   ]
  },
  {
   "cell_type": "code",
   "execution_count": 1,
   "metadata": {},
   "outputs": [],
   "source": [
    "import pandas as pd\n",
    "import numpy as np\n",
    "import matplotlib.pyplot as plt\n",
    "import seaborn as sns"
   ]
  },
  {
   "cell_type": "markdown",
   "metadata": {},
   "source": [
    "And, of course, we have to read the data frame that contains all vehicles...\n",
    "\n",
    "**Important:** It seems that GitHub causes some tables to have unusual resizing and/or print weird characters when the dollar sign `$` appeared in the dataset during rendering. To avoid this issue, all values in `Price` that contain `$` should be changed before the analyses begin."
   ]
  },
  {
   "cell_type": "code",
   "execution_count": 2,
   "metadata": {},
   "outputs": [],
   "source": [
    "rr3_df = pd.read_csv('real_racing_3_vehicles_v8_4.csv')\n",
    "for i in range(len(rr3_df)):\n",
    "    if rr3_df.loc[i, 'Price'][-1] == '$':\n",
    "        s = rr3_df.loc[i, 'Price'][:-1] + 'dollar'\n",
    "        rr3_df.loc[i, 'Price'] = s"
   ]
  },
  {
   "cell_type": "markdown",
   "metadata": {},
   "source": [
    "Let's see what we have in the first 10 rows:"
   ]
  },
  {
   "cell_type": "code",
   "execution_count": 3,
   "metadata": {},
   "outputs": [
    {
     "data": {
      "text/html": [
       "<div>\n",
       "<style scoped>\n",
       "    .dataframe tbody tr th:only-of-type {\n",
       "        vertical-align: middle;\n",
       "    }\n",
       "\n",
       "    .dataframe tbody tr th {\n",
       "        vertical-align: top;\n",
       "    }\n",
       "\n",
       "    .dataframe thead th {\n",
       "        text-align: right;\n",
       "    }\n",
       "</style>\n",
       "<table border=\"1\" class=\"dataframe\">\n",
       "  <thead>\n",
       "    <tr style=\"text-align: right;\">\n",
       "      <th></th>\n",
       "      <th>Manufacturer</th>\n",
       "      <th>Model</th>\n",
       "      <th>PR</th>\n",
       "      <th>Top Speed</th>\n",
       "      <th>Acceleration</th>\n",
       "      <th>Braking</th>\n",
       "      <th>Grip</th>\n",
       "      <th>Class</th>\n",
       "      <th>Type</th>\n",
       "      <th>Series</th>\n",
       "      <th>Price</th>\n",
       "      <th>Service Time</th>\n",
       "      <th>Service Cost</th>\n",
       "      <th>Availability</th>\n",
       "      <th>Exclusive Events</th>\n",
       "    </tr>\n",
       "  </thead>\n",
       "  <tbody>\n",
       "    <tr>\n",
       "      <th>0</th>\n",
       "      <td>Acura</td>\n",
       "      <td>NSX GT3</td>\n",
       "      <td>65.2</td>\n",
       "      <td>274</td>\n",
       "      <td>3.02</td>\n",
       "      <td>29.6</td>\n",
       "      <td>1.65</td>\n",
       "      <td>R</td>\n",
       "      <td>MR</td>\n",
       "      <td>2</td>\n",
       "      <td>750 Gold</td>\n",
       "      <td>180</td>\n",
       "      <td>1990.0</td>\n",
       "      <td>True</td>\n",
       "      <td>False</td>\n",
       "    </tr>\n",
       "    <tr>\n",
       "      <th>1</th>\n",
       "      <td>Acura</td>\n",
       "      <td>ARX-05</td>\n",
       "      <td>78.4</td>\n",
       "      <td>322</td>\n",
       "      <td>2.80</td>\n",
       "      <td>25.6</td>\n",
       "      <td>1.76</td>\n",
       "      <td>R</td>\n",
       "      <td>MR</td>\n",
       "      <td>1</td>\n",
       "      <td>850 Gold</td>\n",
       "      <td>180</td>\n",
       "      <td>1997.0</td>\n",
       "      <td>True</td>\n",
       "      <td>False</td>\n",
       "    </tr>\n",
       "    <tr>\n",
       "      <th>2</th>\n",
       "      <td>Alfa Romeo</td>\n",
       "      <td>Giulietta TCR</td>\n",
       "      <td>34.5</td>\n",
       "      <td>241</td>\n",
       "      <td>5.30</td>\n",
       "      <td>29.3</td>\n",
       "      <td>1.30</td>\n",
       "      <td>R</td>\n",
       "      <td>FF</td>\n",
       "      <td>1</td>\n",
       "      <td>180 Gold</td>\n",
       "      <td>180</td>\n",
       "      <td>1332.0</td>\n",
       "      <td>True</td>\n",
       "      <td>False</td>\n",
       "    </tr>\n",
       "    <tr>\n",
       "      <th>3</th>\n",
       "      <td>Alfa Romeo</td>\n",
       "      <td>4C</td>\n",
       "      <td>29.4</td>\n",
       "      <td>257</td>\n",
       "      <td>4.34</td>\n",
       "      <td>30.2</td>\n",
       "      <td>1.05</td>\n",
       "      <td>P</td>\n",
       "      <td>MR</td>\n",
       "      <td>1</td>\n",
       "      <td>200 Gold</td>\n",
       "      <td>180</td>\n",
       "      <td>1415.0</td>\n",
       "      <td>True</td>\n",
       "      <td>False</td>\n",
       "    </tr>\n",
       "    <tr>\n",
       "      <th>4</th>\n",
       "      <td>Alfa Romeo</td>\n",
       "      <td>155 V6 TI</td>\n",
       "      <td>38.0</td>\n",
       "      <td>274</td>\n",
       "      <td>4.60</td>\n",
       "      <td>29.0</td>\n",
       "      <td>1.35</td>\n",
       "      <td>R</td>\n",
       "      <td>F4</td>\n",
       "      <td>2</td>\n",
       "      <td>300 Gold</td>\n",
       "      <td>180</td>\n",
       "      <td>1665.0</td>\n",
       "      <td>True</td>\n",
       "      <td>True</td>\n",
       "    </tr>\n",
       "    <tr>\n",
       "      <th>5</th>\n",
       "      <td>Ariel</td>\n",
       "      <td>Atom 3.5</td>\n",
       "      <td>44.5</td>\n",
       "      <td>249</td>\n",
       "      <td>2.70</td>\n",
       "      <td>30.5</td>\n",
       "      <td>1.00</td>\n",
       "      <td>S</td>\n",
       "      <td>RR</td>\n",
       "      <td>2</td>\n",
       "      <td>255000 Rdollar</td>\n",
       "      <td>140</td>\n",
       "      <td>1170.0</td>\n",
       "      <td>True</td>\n",
       "      <td>False</td>\n",
       "    </tr>\n",
       "    <tr>\n",
       "      <th>6</th>\n",
       "      <td>Ariel</td>\n",
       "      <td>Atom V8</td>\n",
       "      <td>61.1</td>\n",
       "      <td>322</td>\n",
       "      <td>2.30</td>\n",
       "      <td>30.5</td>\n",
       "      <td>1.20</td>\n",
       "      <td>S</td>\n",
       "      <td>RR</td>\n",
       "      <td>3</td>\n",
       "      <td>150 Gold</td>\n",
       "      <td>180</td>\n",
       "      <td>1402.0</td>\n",
       "      <td>True</td>\n",
       "      <td>True</td>\n",
       "    </tr>\n",
       "    <tr>\n",
       "      <th>7</th>\n",
       "      <td>Aston Martin</td>\n",
       "      <td>DB9</td>\n",
       "      <td>28.2</td>\n",
       "      <td>295</td>\n",
       "      <td>4.50</td>\n",
       "      <td>32.0</td>\n",
       "      <td>1.00</td>\n",
       "      <td>P</td>\n",
       "      <td>FR</td>\n",
       "      <td>4</td>\n",
       "      <td>230000 Rdollar</td>\n",
       "      <td>130</td>\n",
       "      <td>1132.0</td>\n",
       "      <td>True</td>\n",
       "      <td>False</td>\n",
       "    </tr>\n",
       "    <tr>\n",
       "      <th>8</th>\n",
       "      <td>Aston Martin</td>\n",
       "      <td>Vanquish</td>\n",
       "      <td>33.6</td>\n",
       "      <td>295</td>\n",
       "      <td>4.10</td>\n",
       "      <td>31.4</td>\n",
       "      <td>1.02</td>\n",
       "      <td>P</td>\n",
       "      <td>FR</td>\n",
       "      <td>3</td>\n",
       "      <td>110 Gold</td>\n",
       "      <td>150</td>\n",
       "      <td>1230.0</td>\n",
       "      <td>True</td>\n",
       "      <td>False</td>\n",
       "    </tr>\n",
       "    <tr>\n",
       "      <th>9</th>\n",
       "      <td>Aston Martin</td>\n",
       "      <td>V12 Vantage S</td>\n",
       "      <td>43.8</td>\n",
       "      <td>330</td>\n",
       "      <td>3.70</td>\n",
       "      <td>30.5</td>\n",
       "      <td>1.10</td>\n",
       "      <td>P</td>\n",
       "      <td>FR</td>\n",
       "      <td>3</td>\n",
       "      <td>425000 Rdollar</td>\n",
       "      <td>170</td>\n",
       "      <td>1355.0</td>\n",
       "      <td>True</td>\n",
       "      <td>True</td>\n",
       "    </tr>\n",
       "  </tbody>\n",
       "</table>\n",
       "</div>"
      ],
      "text/plain": [
       "   Manufacturer          Model    PR  Top Speed  Acceleration  Braking  Grip  \\\n",
       "0         Acura        NSX GT3  65.2        274          3.02     29.6  1.65   \n",
       "1         Acura         ARX-05  78.4        322          2.80     25.6  1.76   \n",
       "2    Alfa Romeo  Giulietta TCR  34.5        241          5.30     29.3  1.30   \n",
       "3    Alfa Romeo             4C  29.4        257          4.34     30.2  1.05   \n",
       "4    Alfa Romeo      155 V6 TI  38.0        274          4.60     29.0  1.35   \n",
       "5         Ariel       Atom 3.5  44.5        249          2.70     30.5  1.00   \n",
       "6         Ariel        Atom V8  61.1        322          2.30     30.5  1.20   \n",
       "7  Aston Martin            DB9  28.2        295          4.50     32.0  1.00   \n",
       "8  Aston Martin       Vanquish  33.6        295          4.10     31.4  1.02   \n",
       "9  Aston Martin  V12 Vantage S  43.8        330          3.70     30.5  1.10   \n",
       "\n",
       "  Class Type  Series           Price  Service Time  Service Cost  \\\n",
       "0     R   MR       2        750 Gold           180        1990.0   \n",
       "1     R   MR       1        850 Gold           180        1997.0   \n",
       "2     R   FF       1        180 Gold           180        1332.0   \n",
       "3     P   MR       1        200 Gold           180        1415.0   \n",
       "4     R   F4       2        300 Gold           180        1665.0   \n",
       "5     S   RR       2  255000 Rdollar           140        1170.0   \n",
       "6     S   RR       3        150 Gold           180        1402.0   \n",
       "7     P   FR       4  230000 Rdollar           130        1132.0   \n",
       "8     P   FR       3        110 Gold           150        1230.0   \n",
       "9     P   FR       3  425000 Rdollar           170        1355.0   \n",
       "\n",
       "   Availability  Exclusive Events  \n",
       "0          True             False  \n",
       "1          True             False  \n",
       "2          True             False  \n",
       "3          True             False  \n",
       "4          True              True  \n",
       "5          True             False  \n",
       "6          True              True  \n",
       "7          True             False  \n",
       "8          True             False  \n",
       "9          True              True  "
      ]
     },
     "execution_count": 3,
     "metadata": {},
     "output_type": "execute_result"
    }
   ],
   "source": [
    "rr3_df.head(10)"
   ]
  },
  {
   "cell_type": "markdown",
   "metadata": {},
   "source": [
    "The dataset is prepared properly then, good! Let's get the manufacturer and the model name of the **50th vehicle** in the data frame:"
   ]
  },
  {
   "cell_type": "code",
   "execution_count": 4,
   "metadata": {},
   "outputs": [
    {
     "data": {
      "text/plain": [
       "Manufacturer                            Bugatti\n",
       "Model           Veyron 16.4 Grand Sport Vitesse\n",
       "Name: 49, dtype: object"
      ]
     },
     "execution_count": 4,
     "metadata": {},
     "output_type": "execute_result"
    }
   ],
   "source": [
    "rr3_df.loc[49, ['Manufacturer', 'Model']]"
   ]
  },
  {
   "cell_type": "markdown",
   "metadata": {},
   "source": [
    "Well, this returns a **Series** when we check the type of the input above. But, I want it to be appeared as a plain text:"
   ]
  },
  {
   "cell_type": "code",
   "execution_count": 5,
   "metadata": {},
   "outputs": [
    {
     "name": "stdout",
     "output_type": "stream",
     "text": [
      "Bugatti Veyron 16.4 Grand Sport Vitesse\n"
     ]
    }
   ],
   "source": [
    "print(rr3_df.loc[49, 'Manufacturer'] + ' ' + rr3_df.loc[49, 'Model'])"
   ]
  },
  {
   "cell_type": "markdown",
   "metadata": {},
   "source": [
    "OK, what are the specs of the vehicle at 125th index?"
   ]
  },
  {
   "cell_type": "code",
   "execution_count": 6,
   "metadata": {},
   "outputs": [
    {
     "data": {
      "text/plain": [
       "PR              79.2\n",
       "Top Speed        323\n",
       "Acceleration    2.77\n",
       "Braking         25.6\n",
       "Grip            1.76\n",
       "Name: 125, dtype: object"
      ]
     },
     "execution_count": 6,
     "metadata": {},
     "output_type": "execute_result"
    }
   ],
   "source": [
    "rr3_df.loc[125, 'PR':'Grip']"
   ]
  },
  {
   "cell_type": "markdown",
   "metadata": {},
   "source": [
    "Hmmm, according to the base stats, this probably looks like **a race car**, I suppose...\n",
    "\n",
    "Anyway, this time, I'd like to see the **price to buy**, **total service time** and **cost** for the **250th vehicle**:"
   ]
  },
  {
   "cell_type": "code",
   "execution_count": 7,
   "metadata": {},
   "outputs": [
    {
     "data": {
      "text/plain": [
       "Price           850 Gold\n",
       "Service Time         180\n",
       "Service Cost        1997\n",
       "Name: 249, dtype: object"
      ]
     },
     "execution_count": 7,
     "metadata": {},
     "output_type": "execute_result"
    }
   ],
   "source": [
    "rr3_df.loc[249, ['Price', 'Service Time', 'Service Cost']]"
   ]
  },
  {
   "cell_type": "markdown",
   "metadata": {},
   "source": [
    "According to these results, it should be an expensive sports car that belongs to a well-known manufacturer. Well, the value 180 for **Service Time** means the vehicle needs **180 minutes** for servicing and 1997 for **Service Cost** means you've got to spend **1997 R$** to begin servicing that vehicle."
   ]
  },
  {
   "cell_type": "markdown",
   "metadata": {},
   "source": [
    "How about the **classes** and **types** for vehicles between **251st and 260th** index?"
   ]
  },
  {
   "cell_type": "code",
   "execution_count": 8,
   "metadata": {},
   "outputs": [
    {
     "data": {
      "text/html": [
       "<div>\n",
       "<style scoped>\n",
       "    .dataframe tbody tr th:only-of-type {\n",
       "        vertical-align: middle;\n",
       "    }\n",
       "\n",
       "    .dataframe tbody tr th {\n",
       "        vertical-align: top;\n",
       "    }\n",
       "\n",
       "    .dataframe thead th {\n",
       "        text-align: right;\n",
       "    }\n",
       "</style>\n",
       "<table border=\"1\" class=\"dataframe\">\n",
       "  <thead>\n",
       "    <tr style=\"text-align: right;\">\n",
       "      <th></th>\n",
       "      <th>Class</th>\n",
       "      <th>Type</th>\n",
       "    </tr>\n",
       "  </thead>\n",
       "  <tbody>\n",
       "    <tr>\n",
       "      <th>251</th>\n",
       "      <td>S</td>\n",
       "      <td>MR</td>\n",
       "    </tr>\n",
       "    <tr>\n",
       "      <th>252</th>\n",
       "      <td>S</td>\n",
       "      <td>MR</td>\n",
       "    </tr>\n",
       "    <tr>\n",
       "      <th>253</th>\n",
       "      <td>S</td>\n",
       "      <td>RR</td>\n",
       "    </tr>\n",
       "    <tr>\n",
       "      <th>254</th>\n",
       "      <td>P</td>\n",
       "      <td>RR</td>\n",
       "    </tr>\n",
       "    <tr>\n",
       "      <th>255</th>\n",
       "      <td>S</td>\n",
       "      <td>RR</td>\n",
       "    </tr>\n",
       "    <tr>\n",
       "      <th>256</th>\n",
       "      <td>S</td>\n",
       "      <td>R4</td>\n",
       "    </tr>\n",
       "    <tr>\n",
       "      <th>257</th>\n",
       "      <td>P</td>\n",
       "      <td>RR</td>\n",
       "    </tr>\n",
       "    <tr>\n",
       "      <th>258</th>\n",
       "      <td>S</td>\n",
       "      <td>RR</td>\n",
       "    </tr>\n",
       "    <tr>\n",
       "      <th>259</th>\n",
       "      <td>S</td>\n",
       "      <td>RR</td>\n",
       "    </tr>\n",
       "    <tr>\n",
       "      <th>260</th>\n",
       "      <td>R</td>\n",
       "      <td>RR</td>\n",
       "    </tr>\n",
       "  </tbody>\n",
       "</table>\n",
       "</div>"
      ],
      "text/plain": [
       "    Class Type\n",
       "251     S   MR\n",
       "252     S   MR\n",
       "253     S   RR\n",
       "254     P   RR\n",
       "255     S   RR\n",
       "256     S   R4\n",
       "257     P   RR\n",
       "258     S   RR\n",
       "259     S   RR\n",
       "260     R   RR"
      ]
     },
     "execution_count": 8,
     "metadata": {},
     "output_type": "execute_result"
    }
   ],
   "source": [
    "rr3_df.loc[251:260, ['Class', 'Type']]"
   ]
  },
  {
   "cell_type": "markdown",
   "metadata": {},
   "source": [
    "All right, we can inspect vehicles individually like these all day. But now, let's get more detailed info about this dataset.\n",
    "\n",
    "First of all, these are the columns in the datset (for pandas, a dataframe) I'm working with:"
   ]
  },
  {
   "cell_type": "code",
   "execution_count": 9,
   "metadata": {},
   "outputs": [
    {
     "data": {
      "text/plain": [
       "Index(['Manufacturer', 'Model', 'PR', 'Top Speed', 'Acceleration', 'Braking',\n",
       "       'Grip', 'Class', 'Type', 'Series', 'Price', 'Service Time',\n",
       "       'Service Cost', 'Availability', 'Exclusive Events'],\n",
       "      dtype='object')"
      ]
     },
     "execution_count": 9,
     "metadata": {},
     "output_type": "execute_result"
    }
   ],
   "source": [
    "rr3_df.columns"
   ]
  },
  {
   "cell_type": "markdown",
   "metadata": {},
   "source": [
    "Here's the shape of the dataframe: "
   ]
  },
  {
   "cell_type": "code",
   "execution_count": 10,
   "metadata": {},
   "outputs": [
    {
     "data": {
      "text/plain": [
       "(310, 15)"
      ]
     },
     "execution_count": 10,
     "metadata": {},
     "output_type": "execute_result"
    }
   ],
   "source": [
    "rr3_df.shape"
   ]
  },
  {
   "cell_type": "markdown",
   "metadata": {},
   "source": [
    "How about the general statistics of the features which hold **numerical values** (i.e. those with data type of `float64`)?"
   ]
  },
  {
   "cell_type": "code",
   "execution_count": 11,
   "metadata": {},
   "outputs": [
    {
     "data": {
      "text/html": [
       "<div>\n",
       "<style scoped>\n",
       "    .dataframe tbody tr th:only-of-type {\n",
       "        vertical-align: middle;\n",
       "    }\n",
       "\n",
       "    .dataframe tbody tr th {\n",
       "        vertical-align: top;\n",
       "    }\n",
       "\n",
       "    .dataframe thead th {\n",
       "        text-align: right;\n",
       "    }\n",
       "</style>\n",
       "<table border=\"1\" class=\"dataframe\">\n",
       "  <thead>\n",
       "    <tr style=\"text-align: right;\">\n",
       "      <th></th>\n",
       "      <th>PR</th>\n",
       "      <th>Top Speed</th>\n",
       "      <th>Acceleration</th>\n",
       "      <th>Braking</th>\n",
       "      <th>Grip</th>\n",
       "      <th>Series</th>\n",
       "      <th>Service Time</th>\n",
       "      <th>Service Cost</th>\n",
       "    </tr>\n",
       "  </thead>\n",
       "  <tbody>\n",
       "    <tr>\n",
       "      <th>count</th>\n",
       "      <td>310.00</td>\n",
       "      <td>310.00</td>\n",
       "      <td>310.00</td>\n",
       "      <td>310.00</td>\n",
       "      <td>310.00</td>\n",
       "      <td>310.00</td>\n",
       "      <td>310.00</td>\n",
       "      <td>308.00</td>\n",
       "    </tr>\n",
       "    <tr>\n",
       "      <th>mean</th>\n",
       "      <td>49.73</td>\n",
       "      <td>310.53</td>\n",
       "      <td>3.66</td>\n",
       "      <td>30.77</td>\n",
       "      <td>1.33</td>\n",
       "      <td>2.14</td>\n",
       "      <td>165.21</td>\n",
       "      <td>1396.21</td>\n",
       "    </tr>\n",
       "    <tr>\n",
       "      <th>std</th>\n",
       "      <td>26.58</td>\n",
       "      <td>46.17</td>\n",
       "      <td>1.15</td>\n",
       "      <td>5.51</td>\n",
       "      <td>0.50</td>\n",
       "      <td>1.16</td>\n",
       "      <td>60.82</td>\n",
       "      <td>563.62</td>\n",
       "    </tr>\n",
       "    <tr>\n",
       "      <th>min</th>\n",
       "      <td>0.10</td>\n",
       "      <td>180.00</td>\n",
       "      <td>1.90</td>\n",
       "      <td>14.30</td>\n",
       "      <td>0.72</td>\n",
       "      <td>0.00</td>\n",
       "      <td>1.00</td>\n",
       "      <td>0.00</td>\n",
       "    </tr>\n",
       "    <tr>\n",
       "      <th>25%</th>\n",
       "      <td>34.80</td>\n",
       "      <td>280.00</td>\n",
       "      <td>2.90</td>\n",
       "      <td>28.78</td>\n",
       "      <td>1.03</td>\n",
       "      <td>1.00</td>\n",
       "      <td>150.00</td>\n",
       "      <td>1132.00</td>\n",
       "    </tr>\n",
       "    <tr>\n",
       "      <th>50%</th>\n",
       "      <td>48.35</td>\n",
       "      <td>317.00</td>\n",
       "      <td>3.50</td>\n",
       "      <td>30.50</td>\n",
       "      <td>1.17</td>\n",
       "      <td>2.00</td>\n",
       "      <td>180.00</td>\n",
       "      <td>1483.50</td>\n",
       "    </tr>\n",
       "    <tr>\n",
       "      <th>75%</th>\n",
       "      <td>66.15</td>\n",
       "      <td>332.75</td>\n",
       "      <td>4.10</td>\n",
       "      <td>32.30</td>\n",
       "      <td>1.50</td>\n",
       "      <td>3.00</td>\n",
       "      <td>180.00</td>\n",
       "      <td>1901.50</td>\n",
       "    </tr>\n",
       "    <tr>\n",
       "      <th>max</th>\n",
       "      <td>130.30</td>\n",
       "      <td>447.00</td>\n",
       "      <td>8.20</td>\n",
       "      <td>48.80</td>\n",
       "      <td>4.00</td>\n",
       "      <td>7.00</td>\n",
       "      <td>325.00</td>\n",
       "      <td>2192.00</td>\n",
       "    </tr>\n",
       "  </tbody>\n",
       "</table>\n",
       "</div>"
      ],
      "text/plain": [
       "           PR  Top Speed  Acceleration  Braking    Grip  Series  Service Time  \\\n",
       "count  310.00     310.00        310.00   310.00  310.00  310.00        310.00   \n",
       "mean    49.73     310.53          3.66    30.77    1.33    2.14        165.21   \n",
       "std     26.58      46.17          1.15     5.51    0.50    1.16         60.82   \n",
       "min      0.10     180.00          1.90    14.30    0.72    0.00          1.00   \n",
       "25%     34.80     280.00          2.90    28.78    1.03    1.00        150.00   \n",
       "50%     48.35     317.00          3.50    30.50    1.17    2.00        180.00   \n",
       "75%     66.15     332.75          4.10    32.30    1.50    3.00        180.00   \n",
       "max    130.30     447.00          8.20    48.80    4.00    7.00        325.00   \n",
       "\n",
       "       Service Cost  \n",
       "count        308.00  \n",
       "mean        1396.21  \n",
       "std          563.62  \n",
       "min            0.00  \n",
       "25%         1132.00  \n",
       "50%         1483.50  \n",
       "75%         1901.50  \n",
       "max         2192.00  "
      ]
     },
     "execution_count": 11,
     "metadata": {},
     "output_type": "execute_result"
    }
   ],
   "source": [
    "round(rr3_df.describe(), 2)"
   ]
  },
  {
   "cell_type": "markdown",
   "metadata": {},
   "source": [
    "Whoa, look at that! That's lots of info we obtained just from one command! Well, these numbers already explain itself!\n",
    "\n",
    "What makes me wondering is that why the count value for **Service Cost** is not the exact number (which is 2 less), when compared against the count of other features above.\n",
    "\n",
    "Therefore, I want to find out which row(s) have that kind of missing values, possibly **NaN values**."
   ]
  },
  {
   "cell_type": "code",
   "execution_count": 12,
   "metadata": {},
   "outputs": [
    {
     "data": {
      "text/html": [
       "<div>\n",
       "<style scoped>\n",
       "    .dataframe tbody tr th:only-of-type {\n",
       "        vertical-align: middle;\n",
       "    }\n",
       "\n",
       "    .dataframe tbody tr th {\n",
       "        vertical-align: top;\n",
       "    }\n",
       "\n",
       "    .dataframe thead th {\n",
       "        text-align: right;\n",
       "    }\n",
       "</style>\n",
       "<table border=\"1\" class=\"dataframe\">\n",
       "  <thead>\n",
       "    <tr style=\"text-align: right;\">\n",
       "      <th></th>\n",
       "      <th>Manufacturer</th>\n",
       "      <th>Model</th>\n",
       "      <th>PR</th>\n",
       "      <th>Top Speed</th>\n",
       "      <th>Acceleration</th>\n",
       "      <th>Braking</th>\n",
       "      <th>Grip</th>\n",
       "      <th>Class</th>\n",
       "      <th>Type</th>\n",
       "      <th>Series</th>\n",
       "      <th>Price</th>\n",
       "      <th>Service Time</th>\n",
       "      <th>Service Cost</th>\n",
       "      <th>Availability</th>\n",
       "      <th>Exclusive Events</th>\n",
       "    </tr>\n",
       "  </thead>\n",
       "  <tbody>\n",
       "    <tr>\n",
       "      <th>211</th>\n",
       "      <td>McLaren</td>\n",
       "      <td>Senna</td>\n",
       "      <td>66.2</td>\n",
       "      <td>335</td>\n",
       "      <td>2.9</td>\n",
       "      <td>28.0</td>\n",
       "      <td>1.45</td>\n",
       "      <td>S</td>\n",
       "      <td>MR</td>\n",
       "      <td>1</td>\n",
       "      <td>850 Gold</td>\n",
       "      <td>180</td>\n",
       "      <td>NaN</td>\n",
       "      <td>True</td>\n",
       "      <td>False</td>\n",
       "    </tr>\n",
       "    <tr>\n",
       "      <th>213</th>\n",
       "      <td>McLaren</td>\n",
       "      <td>Senna GTR</td>\n",
       "      <td>79.5</td>\n",
       "      <td>362</td>\n",
       "      <td>2.8</td>\n",
       "      <td>25.9</td>\n",
       "      <td>1.70</td>\n",
       "      <td>S</td>\n",
       "      <td>MR</td>\n",
       "      <td>1</td>\n",
       "      <td>1000 Gold</td>\n",
       "      <td>180</td>\n",
       "      <td>NaN</td>\n",
       "      <td>True</td>\n",
       "      <td>True</td>\n",
       "    </tr>\n",
       "  </tbody>\n",
       "</table>\n",
       "</div>"
      ],
      "text/plain": [
       "    Manufacturer      Model    PR  Top Speed  Acceleration  Braking  Grip  \\\n",
       "211      McLaren      Senna  66.2        335           2.9     28.0  1.45   \n",
       "213      McLaren  Senna GTR  79.5        362           2.8     25.9  1.70   \n",
       "\n",
       "    Class Type  Series      Price  Service Time  Service Cost  Availability  \\\n",
       "211     S   MR       1   850 Gold           180           NaN          True   \n",
       "213     S   MR       1  1000 Gold           180           NaN          True   \n",
       "\n",
       "     Exclusive Events  \n",
       "211             False  \n",
       "213              True  "
      ]
     },
     "execution_count": 12,
     "metadata": {},
     "output_type": "execute_result"
    }
   ],
   "source": [
    "rr3_df[rr3_df['Service Cost'].isnull()]"
   ]
  },
  {
   "cell_type": "markdown",
   "metadata": {},
   "source": [
    "Ah yes! I remembered that McLaren Senna and Senna GTR that were added in version 8.3 and I forgot to include their service costs to the dataset! Perhaps I should consider filling the values accordingly ASAP.\n",
    "\n",
    "OK, so I've obtained this knowledge, let's continue motivating ourselves...\n",
    "\n",
    "With `describe()` method, I've seen many **descriptive decimal values**. Can I do the same with `numpy` methods? Let's try them on PR column:"
   ]
  },
  {
   "cell_type": "code",
   "execution_count": 13,
   "metadata": {},
   "outputs": [
    {
     "name": "stdout",
     "output_type": "stream",
     "text": [
      "Count: 310, Mean: 49.7, Std. dev.: 26.538\n"
     ]
    }
   ],
   "source": [
    "PR = rr3_df['PR'].values\n",
    "print(\"Count: {}, Mean: {:.3}, Std. dev.: {:.5}\".format(PR.size, PR.mean(), PR.std()))"
   ]
  },
  {
   "cell_type": "code",
   "execution_count": 14,
   "metadata": {},
   "outputs": [
    {
     "name": "stdout",
     "output_type": "stream",
     "text": [
      "Min: 0.1, Max: 130.3\n"
     ]
    }
   ],
   "source": [
    "print(\"Min: {}, Max: {}\".format(PR.min(), PR.max()))"
   ]
  },
  {
   "cell_type": "code",
   "execution_count": 15,
   "metadata": {},
   "outputs": [
    {
     "name": "stdout",
     "output_type": "stream",
     "text": [
      "25th, 50th, 75th  precent values are [34.8  48.35 66.15]\n"
     ]
    }
   ],
   "source": [
    "print(\"25th, 50th, 75th  precent values are {}\".format(np.percentile(PR, [25, 50, 75])))"
   ]
  },
  {
   "cell_type": "markdown",
   "metadata": {},
   "source": [
    "Yep, they are all doable! By obtaining this information above, I'd like to get the names of vehicles which have **the lowest** PR values:"
   ]
  },
  {
   "cell_type": "code",
   "execution_count": 16,
   "metadata": {},
   "outputs": [
    {
     "data": {
      "text/html": [
       "<div>\n",
       "<style scoped>\n",
       "    .dataframe tbody tr th:only-of-type {\n",
       "        vertical-align: middle;\n",
       "    }\n",
       "\n",
       "    .dataframe tbody tr th {\n",
       "        vertical-align: top;\n",
       "    }\n",
       "\n",
       "    .dataframe thead th {\n",
       "        text-align: right;\n",
       "    }\n",
       "</style>\n",
       "<table border=\"1\" class=\"dataframe\">\n",
       "  <thead>\n",
       "    <tr style=\"text-align: right;\">\n",
       "      <th></th>\n",
       "      <th>Manufacturer</th>\n",
       "      <th>Model</th>\n",
       "      <th>Price</th>\n",
       "    </tr>\n",
       "  </thead>\n",
       "  <tbody>\n",
       "    <tr>\n",
       "      <th>194</th>\n",
       "      <td>Mazda</td>\n",
       "      <td>RX-3</td>\n",
       "      <td>50 Gold</td>\n",
       "    </tr>\n",
       "    <tr>\n",
       "      <th>229</th>\n",
       "      <td>Nissan</td>\n",
       "      <td>Skyline 2000 GT-R (KPGC10)</td>\n",
       "      <td>50 Gold</td>\n",
       "    </tr>\n",
       "    <tr>\n",
       "      <th>254</th>\n",
       "      <td>Porsche</td>\n",
       "      <td>911 Targa (1974)</td>\n",
       "      <td>53000 Rdollar</td>\n",
       "    </tr>\n",
       "  </tbody>\n",
       "</table>\n",
       "</div>"
      ],
      "text/plain": [
       "    Manufacturer                       Model          Price\n",
       "194        Mazda                        RX-3        50 Gold\n",
       "229       Nissan  Skyline 2000 GT-R (KPGC10)        50 Gold\n",
       "254      Porsche            911 Targa (1974)  53000 Rdollar"
      ]
     },
     "execution_count": 16,
     "metadata": {},
     "output_type": "execute_result"
    }
   ],
   "source": [
    "lowest_PR = rr3_df[rr3_df['PR'] == 0.1]\n",
    "lowest_PR.loc[:, ['Manufacturer', 'Model', 'Price']]"
   ]
  },
  {
   "cell_type": "markdown",
   "metadata": {},
   "source": [
    "Hmmm, the lowest PR value is shared by **3 vehicles**, not one! Well, why do Mazda RX-3 and Nissan Skyline 2000 GT-R cost Gold to buy then instead of R$!?\n",
    "\n",
    "How about the vehicle with **the highest PR** value?"
   ]
  },
  {
   "cell_type": "code",
   "execution_count": 17,
   "metadata": {},
   "outputs": [
    {
     "data": {
      "text/html": [
       "<div>\n",
       "<style scoped>\n",
       "    .dataframe tbody tr th:only-of-type {\n",
       "        vertical-align: middle;\n",
       "    }\n",
       "\n",
       "    .dataframe tbody tr th {\n",
       "        vertical-align: top;\n",
       "    }\n",
       "\n",
       "    .dataframe thead th {\n",
       "        text-align: right;\n",
       "    }\n",
       "</style>\n",
       "<table border=\"1\" class=\"dataframe\">\n",
       "  <thead>\n",
       "    <tr style=\"text-align: right;\">\n",
       "      <th></th>\n",
       "      <th>Manufacturer</th>\n",
       "      <th>Model</th>\n",
       "      <th>Top Speed</th>\n",
       "      <th>Acceleration</th>\n",
       "      <th>Braking</th>\n",
       "      <th>Grip</th>\n",
       "      <th>Price</th>\n",
       "    </tr>\n",
       "  </thead>\n",
       "  <tbody>\n",
       "    <tr>\n",
       "      <th>214</th>\n",
       "      <td>McLaren</td>\n",
       "      <td>MP4-X</td>\n",
       "      <td>402</td>\n",
       "      <td>1.9</td>\n",
       "      <td>14.3</td>\n",
       "      <td>4.0</td>\n",
       "      <td>1200 Gold</td>\n",
       "    </tr>\n",
       "  </tbody>\n",
       "</table>\n",
       "</div>"
      ],
      "text/plain": [
       "    Manufacturer  Model  Top Speed  Acceleration  Braking  Grip      Price\n",
       "214      McLaren  MP4-X        402           1.9     14.3   4.0  1200 Gold"
      ]
     },
     "execution_count": 17,
     "metadata": {},
     "output_type": "execute_result"
    }
   ],
   "source": [
    "highest_PR = rr3_df[rr3_df['PR'] == 130.3]\n",
    "highest_PR.iloc[:,[0,1,3,4,5,6,10]]"
   ]
  },
  {
   "cell_type": "markdown",
   "metadata": {},
   "source": [
    "WOW! **McLaren MP4-X**, a futuristic F1-inspired hypercar, must be immensely fast! This vehicle really deserves to have the highest PR in the game (still even for version 8.4). Moreover, it has the highest acceleration, cornering grip and lowest braking distance! _(Check these values with the ones above properly)_\n",
    "\n",
    "On the other hand, w.r.t. **top speed, it doesn't have the highest**! So, which one?"
   ]
  },
  {
   "cell_type": "code",
   "execution_count": 18,
   "metadata": {},
   "outputs": [
    {
     "data": {
      "text/html": [
       "<div>\n",
       "<style scoped>\n",
       "    .dataframe tbody tr th:only-of-type {\n",
       "        vertical-align: middle;\n",
       "    }\n",
       "\n",
       "    .dataframe tbody tr th {\n",
       "        vertical-align: top;\n",
       "    }\n",
       "\n",
       "    .dataframe thead th {\n",
       "        text-align: right;\n",
       "    }\n",
       "</style>\n",
       "<table border=\"1\" class=\"dataframe\">\n",
       "  <thead>\n",
       "    <tr style=\"text-align: right;\">\n",
       "      <th></th>\n",
       "      <th>Manufacturer</th>\n",
       "      <th>Model</th>\n",
       "      <th>Top Speed</th>\n",
       "    </tr>\n",
       "  </thead>\n",
       "  <tbody>\n",
       "    <tr>\n",
       "      <th>163</th>\n",
       "      <td>Koenigsegg</td>\n",
       "      <td>Agera RS</td>\n",
       "      <td>447</td>\n",
       "    </tr>\n",
       "  </tbody>\n",
       "</table>\n",
       "</div>"
      ],
      "text/plain": [
       "    Manufacturer     Model  Top Speed\n",
       "163   Koenigsegg  Agera RS        447"
      ]
     },
     "execution_count": 18,
     "metadata": {},
     "output_type": "execute_result"
    }
   ],
   "source": [
    "highest_TS = rr3_df['Top Speed'].max()\n",
    "highest_TS_name = rr3_df[rr3_df['Top Speed'] == highest_TS]\n",
    "highest_TS_name[['Manufacturer', 'Model', 'Top Speed']]"
   ]
  },
  {
   "cell_type": "markdown",
   "metadata": {},
   "source": [
    "Aah! Koenigsegg Agera RS (available since game version 8.0) has the highest top speed (447 kph) even with **no upgrades**!\n",
    "\n",
    "Now, I wonder which vehicle appears the most throughout the career series."
   ]
  },
  {
   "cell_type": "code",
   "execution_count": 19,
   "metadata": {},
   "outputs": [
    {
     "data": {
      "text/html": [
       "<div>\n",
       "<style scoped>\n",
       "    .dataframe tbody tr th:only-of-type {\n",
       "        vertical-align: middle;\n",
       "    }\n",
       "\n",
       "    .dataframe tbody tr th {\n",
       "        vertical-align: top;\n",
       "    }\n",
       "\n",
       "    .dataframe thead th {\n",
       "        text-align: right;\n",
       "    }\n",
       "</style>\n",
       "<table border=\"1\" class=\"dataframe\">\n",
       "  <thead>\n",
       "    <tr style=\"text-align: right;\">\n",
       "      <th></th>\n",
       "      <th>Manufacturer</th>\n",
       "      <th>Model</th>\n",
       "      <th>PR</th>\n",
       "      <th>Top Speed</th>\n",
       "      <th>Acceleration</th>\n",
       "      <th>Braking</th>\n",
       "      <th>Grip</th>\n",
       "      <th>Class</th>\n",
       "      <th>Type</th>\n",
       "      <th>Series</th>\n",
       "      <th>Price</th>\n",
       "      <th>Service Time</th>\n",
       "      <th>Service Cost</th>\n",
       "      <th>Availability</th>\n",
       "      <th>Exclusive Events</th>\n",
       "    </tr>\n",
       "  </thead>\n",
       "  <tbody>\n",
       "    <tr>\n",
       "      <th>272</th>\n",
       "      <td>Porsche</td>\n",
       "      <td>918 Spyder Concept</td>\n",
       "      <td>60.2</td>\n",
       "      <td>322</td>\n",
       "      <td>3.0</td>\n",
       "      <td>30.2</td>\n",
       "      <td>1.4</td>\n",
       "      <td>S</td>\n",
       "      <td>M4</td>\n",
       "      <td>7</td>\n",
       "      <td>845000 Rdollar</td>\n",
       "      <td>215</td>\n",
       "      <td>1605.0</td>\n",
       "      <td>True</td>\n",
       "      <td>False</td>\n",
       "    </tr>\n",
       "  </tbody>\n",
       "</table>\n",
       "</div>"
      ],
      "text/plain": [
       "    Manufacturer               Model    PR  Top Speed  Acceleration  Braking  \\\n",
       "272      Porsche  918 Spyder Concept  60.2        322           3.0     30.2   \n",
       "\n",
       "     Grip Class Type  Series           Price  Service Time  Service Cost  \\\n",
       "272   1.4     S   M4       7  845000 Rdollar           215        1605.0   \n",
       "\n",
       "     Availability  Exclusive Events  \n",
       "272          True             False  "
      ]
     },
     "execution_count": 19,
     "metadata": {},
     "output_type": "execute_result"
    }
   ],
   "source": [
    "highest_series = rr3_df['Series'].max()\n",
    "rr3_df[rr3_df['Series'] == highest_series]"
   ]
  },
  {
   "cell_type": "markdown",
   "metadata": {},
   "source": [
    "Ah yes, one of my favourite vehicle here: **Porsche 918 Spyder Concept**. Should this be a good choice to go for full upgrade?"
   ]
  },
  {
   "cell_type": "markdown",
   "metadata": {},
   "source": [
    "OK, lastly, through these numbers above (the stats we've seen with `describe()`), I noticed that the minimum required servicing time is just **1 minute**.\n",
    "\n",
    "Thus, which vehicle does almost not need much servicing time?"
   ]
  },
  {
   "cell_type": "code",
   "execution_count": 20,
   "metadata": {},
   "outputs": [
    {
     "data": {
      "text/html": [
       "<div>\n",
       "<style scoped>\n",
       "    .dataframe tbody tr th:only-of-type {\n",
       "        vertical-align: middle;\n",
       "    }\n",
       "\n",
       "    .dataframe tbody tr th {\n",
       "        vertical-align: top;\n",
       "    }\n",
       "\n",
       "    .dataframe thead th {\n",
       "        text-align: right;\n",
       "    }\n",
       "</style>\n",
       "<table border=\"1\" class=\"dataframe\">\n",
       "  <thead>\n",
       "    <tr style=\"text-align: right;\">\n",
       "      <th></th>\n",
       "      <th>Manufacturer</th>\n",
       "      <th>Model</th>\n",
       "      <th>PR</th>\n",
       "      <th>Top Speed</th>\n",
       "      <th>Acceleration</th>\n",
       "      <th>Braking</th>\n",
       "      <th>Grip</th>\n",
       "      <th>Class</th>\n",
       "      <th>Type</th>\n",
       "      <th>Series</th>\n",
       "      <th>Price</th>\n",
       "      <th>Service Time</th>\n",
       "      <th>Service Cost</th>\n",
       "      <th>Availability</th>\n",
       "      <th>Exclusive Events</th>\n",
       "    </tr>\n",
       "  </thead>\n",
       "  <tbody>\n",
       "    <tr>\n",
       "      <th>226</th>\n",
       "      <td>Nissan</td>\n",
       "      <td>Silvia (S15)</td>\n",
       "      <td>1.7</td>\n",
       "      <td>243</td>\n",
       "      <td>5.5</td>\n",
       "      <td>34.4</td>\n",
       "      <td>0.85</td>\n",
       "      <td>P</td>\n",
       "      <td>FR(RHD)</td>\n",
       "      <td>3</td>\n",
       "      <td>25700 Rdollar</td>\n",
       "      <td>1</td>\n",
       "      <td>342.0</td>\n",
       "      <td>True</td>\n",
       "      <td>False</td>\n",
       "    </tr>\n",
       "  </tbody>\n",
       "</table>\n",
       "</div>"
      ],
      "text/plain": [
       "    Manufacturer         Model   PR  Top Speed  Acceleration  Braking  Grip  \\\n",
       "226       Nissan  Silvia (S15)  1.7        243           5.5     34.4  0.85   \n",
       "\n",
       "    Class     Type  Series          Price  Service Time  Service Cost  \\\n",
       "226     P  FR(RHD)       3  25700 Rdollar             1         342.0   \n",
       "\n",
       "     Availability  Exclusive Events  \n",
       "226          True             False  "
      ]
     },
     "execution_count": 20,
     "metadata": {},
     "output_type": "execute_result"
    }
   ],
   "source": [
    "minimum_service_time = rr3_df['Service Time'].min()\n",
    "rr3_df[rr3_df['Service Time'] == minimum_service_time]"
   ]
  },
  {
   "cell_type": "markdown",
   "metadata": {},
   "source": [
    "Hey, that's our good ol' friend **Nissan Silvia**! That was our first vehicle ever to own for newcomers in the game, right? Plus, it shouldn't be so expensive to get it to fully upgraded, though!\n",
    "\n",
    "In contrast, now, which one has the highest servicing time?"
   ]
  },
  {
   "cell_type": "code",
   "execution_count": 21,
   "metadata": {},
   "outputs": [
    {
     "data": {
      "text/html": [
       "<div>\n",
       "<style scoped>\n",
       "    .dataframe tbody tr th:only-of-type {\n",
       "        vertical-align: middle;\n",
       "    }\n",
       "\n",
       "    .dataframe tbody tr th {\n",
       "        vertical-align: top;\n",
       "    }\n",
       "\n",
       "    .dataframe thead th {\n",
       "        text-align: right;\n",
       "    }\n",
       "</style>\n",
       "<table border=\"1\" class=\"dataframe\">\n",
       "  <thead>\n",
       "    <tr style=\"text-align: right;\">\n",
       "      <th></th>\n",
       "      <th>Manufacturer</th>\n",
       "      <th>Model</th>\n",
       "      <th>PR</th>\n",
       "      <th>Top Speed</th>\n",
       "      <th>Acceleration</th>\n",
       "      <th>Braking</th>\n",
       "      <th>Grip</th>\n",
       "      <th>Class</th>\n",
       "      <th>Type</th>\n",
       "      <th>Series</th>\n",
       "      <th>Price</th>\n",
       "      <th>Service Time</th>\n",
       "      <th>Service Cost</th>\n",
       "      <th>Availability</th>\n",
       "      <th>Exclusive Events</th>\n",
       "    </tr>\n",
       "  </thead>\n",
       "  <tbody>\n",
       "    <tr>\n",
       "      <th>309</th>\n",
       "      <td>Toyota</td>\n",
       "      <td>TS040 Hybrid (2014)</td>\n",
       "      <td>89.4</td>\n",
       "      <td>394</td>\n",
       "      <td>2.5</td>\n",
       "      <td>26.2</td>\n",
       "      <td>1.82</td>\n",
       "      <td>R</td>\n",
       "      <td>M4</td>\n",
       "      <td>2</td>\n",
       "      <td>950 Gold</td>\n",
       "      <td>325</td>\n",
       "      <td>2192.0</td>\n",
       "      <td>True</td>\n",
       "      <td>False</td>\n",
       "    </tr>\n",
       "  </tbody>\n",
       "</table>\n",
       "</div>"
      ],
      "text/plain": [
       "    Manufacturer                Model    PR  Top Speed  Acceleration  Braking  \\\n",
       "309       Toyota  TS040 Hybrid (2014)  89.4        394           2.5     26.2   \n",
       "\n",
       "     Grip Class Type  Series     Price  Service Time  Service Cost  \\\n",
       "309  1.82     R   M4       2  950 Gold           325        2192.0   \n",
       "\n",
       "     Availability  Exclusive Events  \n",
       "309          True             False  "
      ]
     },
     "execution_count": 21,
     "metadata": {},
     "output_type": "execute_result"
    }
   ],
   "source": [
    "max_service_time = rr3_df['Service Time'].max()\n",
    "rr3_df[rr3_df['Service Time'] == max_service_time]"
   ]
  },
  {
   "cell_type": "markdown",
   "metadata": {},
   "source": [
    "Ah, it's a **Toyota**! But, not a street legal vehicle; instead, from _Endurance Motorsport Series_. I figured out that it needs **5 hours 25 minutes** to have it fully serviced. Likewise, **the highest servicing cost** belongs to this vehicle, too!"
   ]
  },
  {
   "cell_type": "code",
   "execution_count": 22,
   "metadata": {},
   "outputs": [
    {
     "name": "stdout",
     "output_type": "stream",
     "text": [
      "Median of service time is 180 minutes.\n",
      "And 149 vehicles have this duration of servicing time.\n"
     ]
    }
   ],
   "source": [
    "median_service_time = rr3_df['Service Time'].median()\n",
    "print(\"Median of service time is {:.0f} minutes.\".format(median_service_time))\n",
    "count_median_service_time = rr3_df[rr3_df['Service Time'] == median_service_time].shape[0]\n",
    "print(\"And {} vehicles have this duration of servicing time.\".format(count_median_service_time))"
   ]
  },
  {
   "cell_type": "markdown",
   "metadata": {},
   "source": [
    "OK, it's not surprising that the median value of servicing time is **180 minutes = 3 hours**, since many new vehicles that were added through the latest updates, even the cheap ones, have their service times set to that value. Now, in game version 8.4, it's been raised to **149** vehicles!\n",
    "\n",
    "For this reason, this time value is definitely dominant among all!"
   ]
  },
  {
   "cell_type": "code",
   "execution_count": 23,
   "metadata": {},
   "outputs": [
    {
     "name": "stdout",
     "output_type": "stream",
     "text": [
      "Ratio of vehicles having service time of 3 hours: 48.06 percent\n"
     ]
    }
   ],
   "source": [
    "print(\"Ratio of vehicles having service time of 3 hours: {:.2f} percent\".format(\n",
    "    count_median_service_time/rr3_df.shape[0] * 100))"
   ]
  },
  {
   "cell_type": "markdown",
   "metadata": {},
   "source": [
    "By doing a simple calculation here, we imply that accounts for **48%** of the vehicles, nearly the half!\n",
    "\n",
    "Another thing, which surprises me that there does exist one or more vehicles **with NO service cost**. Hmmm, what are those?"
   ]
  },
  {
   "cell_type": "code",
   "execution_count": 24,
   "metadata": {},
   "outputs": [
    {
     "data": {
      "text/html": [
       "<div>\n",
       "<style scoped>\n",
       "    .dataframe tbody tr th:only-of-type {\n",
       "        vertical-align: middle;\n",
       "    }\n",
       "\n",
       "    .dataframe tbody tr th {\n",
       "        vertical-align: top;\n",
       "    }\n",
       "\n",
       "    .dataframe thead th {\n",
       "        text-align: right;\n",
       "    }\n",
       "</style>\n",
       "<table border=\"1\" class=\"dataframe\">\n",
       "  <thead>\n",
       "    <tr style=\"text-align: right;\">\n",
       "      <th></th>\n",
       "      <th>Manufacturer</th>\n",
       "      <th>Model</th>\n",
       "      <th>Service Time</th>\n",
       "      <th>Price</th>\n",
       "    </tr>\n",
       "  </thead>\n",
       "  <tbody>\n",
       "    <tr>\n",
       "      <th>127</th>\n",
       "      <td>Mercedes-AMG</td>\n",
       "      <td>GT R F1 Safety Car</td>\n",
       "      <td>180</td>\n",
       "      <td>500000 Mdollar</td>\n",
       "    </tr>\n",
       "    <tr>\n",
       "      <th>128</th>\n",
       "      <td>Formula 1</td>\n",
       "      <td>F1 Academy Car</td>\n",
       "      <td>180</td>\n",
       "      <td>0 Mdollar</td>\n",
       "    </tr>\n",
       "    <tr>\n",
       "      <th>129</th>\n",
       "      <td>Formula 1</td>\n",
       "      <td>Renault F1 Team R.S. 19</td>\n",
       "      <td>180</td>\n",
       "      <td>2000000 Mdollar</td>\n",
       "    </tr>\n",
       "    <tr>\n",
       "      <th>130</th>\n",
       "      <td>Formula 1</td>\n",
       "      <td>Red Bull Racing RB15</td>\n",
       "      <td>180</td>\n",
       "      <td>2000000 Mdollar</td>\n",
       "    </tr>\n",
       "    <tr>\n",
       "      <th>131</th>\n",
       "      <td>Formula 1</td>\n",
       "      <td>Toro Rosso STR14</td>\n",
       "      <td>180</td>\n",
       "      <td>2000000 Mdollar</td>\n",
       "    </tr>\n",
       "    <tr>\n",
       "      <th>132</th>\n",
       "      <td>Formula 1</td>\n",
       "      <td>Scuderia Ferrari SF90</td>\n",
       "      <td>180</td>\n",
       "      <td>2000000 Mdollar</td>\n",
       "    </tr>\n",
       "    <tr>\n",
       "      <th>133</th>\n",
       "      <td>Formula 1</td>\n",
       "      <td>Mercedes-AMG Petronas Motorsport F1 W10 EQ Power+</td>\n",
       "      <td>180</td>\n",
       "      <td>2000000 Mdollar</td>\n",
       "    </tr>\n",
       "    <tr>\n",
       "      <th>134</th>\n",
       "      <td>Formula 1</td>\n",
       "      <td>Haas F1 Team VF-19</td>\n",
       "      <td>180</td>\n",
       "      <td>2000000 Mdollar</td>\n",
       "    </tr>\n",
       "    <tr>\n",
       "      <th>135</th>\n",
       "      <td>Formula 1</td>\n",
       "      <td>Alfa Romeo Racing C38</td>\n",
       "      <td>180</td>\n",
       "      <td>2000000 Mdollar</td>\n",
       "    </tr>\n",
       "    <tr>\n",
       "      <th>136</th>\n",
       "      <td>Formula 1</td>\n",
       "      <td>McLaren F1 Team MCL34</td>\n",
       "      <td>180</td>\n",
       "      <td>2000000 Mdollar</td>\n",
       "    </tr>\n",
       "    <tr>\n",
       "      <th>137</th>\n",
       "      <td>Formula 1</td>\n",
       "      <td>SPScore Racing Point F1 Team RP19</td>\n",
       "      <td>180</td>\n",
       "      <td>2000000 Mdollar</td>\n",
       "    </tr>\n",
       "    <tr>\n",
       "      <th>138</th>\n",
       "      <td>Formula 1</td>\n",
       "      <td>Rokit Williams Racing FW42</td>\n",
       "      <td>180</td>\n",
       "      <td>2000000 Mdollar</td>\n",
       "    </tr>\n",
       "    <tr>\n",
       "      <th>139</th>\n",
       "      <td>Formula E</td>\n",
       "      <td>SRT_01E (Season 3) (ABT Schaeffler FE02)</td>\n",
       "      <td>180</td>\n",
       "      <td>1500000 Mdollar</td>\n",
       "    </tr>\n",
       "    <tr>\n",
       "      <th>140</th>\n",
       "      <td>Formula E</td>\n",
       "      <td>SRT_01E (Season 3) (NextEV TCR Formula 002)</td>\n",
       "      <td>180</td>\n",
       "      <td>1500000 Mdollar</td>\n",
       "    </tr>\n",
       "    <tr>\n",
       "      <th>141</th>\n",
       "      <td>Formula E</td>\n",
       "      <td>SRT_01E (Season 3) (Renault Z.E. 16)</td>\n",
       "      <td>180</td>\n",
       "      <td>1500000 Mdollar</td>\n",
       "    </tr>\n",
       "    <tr>\n",
       "      <th>142</th>\n",
       "      <td>Formula E</td>\n",
       "      <td>SRT_01E (Season 4)</td>\n",
       "      <td>180</td>\n",
       "      <td>1500000 Mdollar</td>\n",
       "    </tr>\n",
       "    <tr>\n",
       "      <th>143</th>\n",
       "      <td>Formula E</td>\n",
       "      <td>SRT05E (Season 5)</td>\n",
       "      <td>180</td>\n",
       "      <td>1800000 Mdollar</td>\n",
       "    </tr>\n",
       "    <tr>\n",
       "      <th>204</th>\n",
       "      <td>McLaren</td>\n",
       "      <td>720S GT3</td>\n",
       "      <td>180</td>\n",
       "      <td>1300000 Mdollar</td>\n",
       "    </tr>\n",
       "    <tr>\n",
       "      <th>276</th>\n",
       "      <td>Porsche</td>\n",
       "      <td>911 GT3 R</td>\n",
       "      <td>180</td>\n",
       "      <td>1300000 Mdollar</td>\n",
       "    </tr>\n",
       "  </tbody>\n",
       "</table>\n",
       "</div>"
      ],
      "text/plain": [
       "     Manufacturer                                              Model  \\\n",
       "127  Mercedes-AMG                                 GT R F1 Safety Car   \n",
       "128     Formula 1                                     F1 Academy Car   \n",
       "129     Formula 1                            Renault F1 Team R.S. 19   \n",
       "130     Formula 1                               Red Bull Racing RB15   \n",
       "131     Formula 1                                   Toro Rosso STR14   \n",
       "132     Formula 1                              Scuderia Ferrari SF90   \n",
       "133     Formula 1  Mercedes-AMG Petronas Motorsport F1 W10 EQ Power+   \n",
       "134     Formula 1                                 Haas F1 Team VF-19   \n",
       "135     Formula 1                              Alfa Romeo Racing C38   \n",
       "136     Formula 1                              McLaren F1 Team MCL34   \n",
       "137     Formula 1                  SPScore Racing Point F1 Team RP19   \n",
       "138     Formula 1                         Rokit Williams Racing FW42   \n",
       "139     Formula E           SRT_01E (Season 3) (ABT Schaeffler FE02)   \n",
       "140     Formula E        SRT_01E (Season 3) (NextEV TCR Formula 002)   \n",
       "141     Formula E               SRT_01E (Season 3) (Renault Z.E. 16)   \n",
       "142     Formula E                                 SRT_01E (Season 4)   \n",
       "143     Formula E                                  SRT05E (Season 5)   \n",
       "204       McLaren                                           720S GT3   \n",
       "276       Porsche                                          911 GT3 R   \n",
       "\n",
       "     Service Time            Price  \n",
       "127           180   500000 Mdollar  \n",
       "128           180        0 Mdollar  \n",
       "129           180  2000000 Mdollar  \n",
       "130           180  2000000 Mdollar  \n",
       "131           180  2000000 Mdollar  \n",
       "132           180  2000000 Mdollar  \n",
       "133           180  2000000 Mdollar  \n",
       "134           180  2000000 Mdollar  \n",
       "135           180  2000000 Mdollar  \n",
       "136           180  2000000 Mdollar  \n",
       "137           180  2000000 Mdollar  \n",
       "138           180  2000000 Mdollar  \n",
       "139           180  1500000 Mdollar  \n",
       "140           180  1500000 Mdollar  \n",
       "141           180  1500000 Mdollar  \n",
       "142           180  1500000 Mdollar  \n",
       "143           180  1800000 Mdollar  \n",
       "204           180  1300000 Mdollar  \n",
       "276           180  1300000 Mdollar  "
      ]
     },
     "execution_count": 24,
     "metadata": {},
     "output_type": "execute_result"
    }
   ],
   "source": [
    "no_service_cost = rr3_df[rr3_df['Service Cost'] == 0]\n",
    "no_service_cost.loc[:,['Manufacturer', 'Model', 'Service Time', 'Price']]"
   ]
  },
  {
   "cell_type": "markdown",
   "metadata": {},
   "source": [
    "Oh my goodness! We came across many vehicles from **2019 season of Formula 1 vehicles**! Plus, with the adjustments in game version 8.4, **Formula E**, **two GT3** vehicles also had their service costs removed. Despite that, these vehicles still need **180 minutes** to service!\n",
    "\n",
    "In addition, all these vehicles can be obtained with the special `Mdollar` currency, which was introduced in game version 8.0 when F1 vehicles had appeared for the first time.\n",
    "\n",
    "Lastly, we know that when a new version is delivered to this game, it generally selects **two** available vehicles to be eligible for **Exclusive Events**. However, in order to unlock to these events, you need to **fully upgrade** those vehicles! Well, how many of them could access to its own exclusive events?"
   ]
  },
  {
   "cell_type": "code",
   "execution_count": 25,
   "metadata": {},
   "outputs": [
    {
     "name": "stdout",
     "output_type": "stream",
     "text": [
      "False    242\n",
      "True      68\n",
      "Name: Exclusive Events, dtype: int64\n",
      "*** That accounts for 21.94 percent.\n"
     ]
    }
   ],
   "source": [
    "print(rr3_df['Exclusive Events'].value_counts())\n",
    "print(\"*** That accounts for {:.2f} percent.\".format(len(rr3_df[rr3_df['Exclusive Events'] == True]) / len(rr3_df) * 100))"
   ]
  },
  {
   "cell_type": "markdown",
   "metadata": {},
   "source": [
    "Well, total of **68** vehicles. Can I name a few arbitrarily, if possible?"
   ]
  },
  {
   "cell_type": "code",
   "execution_count": 26,
   "metadata": {},
   "outputs": [
    {
     "data": {
      "text/html": [
       "<div>\n",
       "<style scoped>\n",
       "    .dataframe tbody tr th:only-of-type {\n",
       "        vertical-align: middle;\n",
       "    }\n",
       "\n",
       "    .dataframe tbody tr th {\n",
       "        vertical-align: top;\n",
       "    }\n",
       "\n",
       "    .dataframe thead th {\n",
       "        text-align: right;\n",
       "    }\n",
       "</style>\n",
       "<table border=\"1\" class=\"dataframe\">\n",
       "  <thead>\n",
       "    <tr style=\"text-align: right;\">\n",
       "      <th></th>\n",
       "      <th>Manufacturer</th>\n",
       "      <th>Model</th>\n",
       "    </tr>\n",
       "  </thead>\n",
       "  <tbody>\n",
       "    <tr>\n",
       "      <th>22</th>\n",
       "      <td>Audi</td>\n",
       "      <td>R8 LMS Ultra</td>\n",
       "    </tr>\n",
       "    <tr>\n",
       "      <th>49</th>\n",
       "      <td>Bugatti</td>\n",
       "      <td>Veyron 16.4 Grand Sport Vitesse</td>\n",
       "    </tr>\n",
       "    <tr>\n",
       "      <th>103</th>\n",
       "      <td>Ferrari</td>\n",
       "      <td>LaFerrari</td>\n",
       "    </tr>\n",
       "    <tr>\n",
       "      <th>166</th>\n",
       "      <td>Koenigsegg</td>\n",
       "      <td>Regera</td>\n",
       "    </tr>\n",
       "    <tr>\n",
       "      <th>212</th>\n",
       "      <td>McLaren</td>\n",
       "      <td>MP4/4</td>\n",
       "    </tr>\n",
       "    <tr>\n",
       "      <th>215</th>\n",
       "      <td>Mercedes-Benz</td>\n",
       "      <td>190E 2.5-16 Evolution II</td>\n",
       "    </tr>\n",
       "  </tbody>\n",
       "</table>\n",
       "</div>"
      ],
      "text/plain": [
       "      Manufacturer                            Model\n",
       "22            Audi                     R8 LMS Ultra\n",
       "49         Bugatti  Veyron 16.4 Grand Sport Vitesse\n",
       "103        Ferrari                        LaFerrari\n",
       "166     Koenigsegg                           Regera\n",
       "212        McLaren                            MP4/4\n",
       "215  Mercedes-Benz         190E 2.5-16 Evolution II"
      ]
     },
     "execution_count": 26,
     "metadata": {},
     "output_type": "execute_result"
    }
   ],
   "source": [
    "rr3_exclusive = rr3_df[rr3_df['Exclusive Events'] == True]\n",
    "rr3_exclusive.iloc[[7, 12, 22, 34, 47, 50], [0, 1]]"
   ]
  },
  {
   "cell_type": "markdown",
   "metadata": {},
   "source": [
    "So, any vehicle with exclusive events might be cheap or expensive. It's up to you if you'd like to access those events, then you need a pile of **Gold** and **R$** for full upgrades."
   ]
  },
  {
   "cell_type": "markdown",
   "metadata": {},
   "source": [
    "### **All right folks, that's all for the 1st analysis outcome for Vehicles in Real Racing 3!**\n",
    "\n",
    "**In the next part, I will reveal more statistical info for better insight of this dataset; and putting a few visualization charts will be nice here!**\n",
    "\n",
    "## Until the next part, keep racing!"
   ]
  }
 ],
 "metadata": {
  "kernelspec": {
   "display_name": "Python 3",
   "language": "python",
   "name": "python3"
  },
  "language_info": {
   "codemirror_mode": {
    "name": "ipython",
    "version": 3
   },
   "file_extension": ".py",
   "mimetype": "text/x-python",
   "name": "python",
   "nbconvert_exporter": "python",
   "pygments_lexer": "ipython3",
   "version": "3.7.1"
  }
 },
 "nbformat": 4,
 "nbformat_minor": 2
}
